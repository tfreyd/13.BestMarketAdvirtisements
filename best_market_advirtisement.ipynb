{
 "cells": [
  {
   "cell_type": "markdown",
   "metadata": {},
   "source": [
    "### Best platform for advirtisement\n",
    "We are working for an e-learning compagny that offers courses on programming. \n",
    "\n",
    "Many courses are offered such as data science,game development... but the core of the company is web and mobile development.\n",
    "\n",
    "If we were to inject money for some advertisement what market should we focus on.\n",
    "the data set come from (freeCodeCamp's 2017) https://medium.freecodecamp.org/we-asked-20-000-people-who-they-are-and-how-theyre-learning-to-code-fff5d668969\n",
    "\n",
    "The dataset we are working on is already a merging between 2 dataset. see more at https://github.com/freeCodeCamp/2017-new-coder-survey\n",
    "\n",
    "**goal**\n",
    "- the goal of the project is to determine what market  would the best for us for the biggest ROI on our investment\n",
    "\n",
    "**column of interest**:\n",
    "- what sources do they used\n",
    "- how much do they spend and who are the ones in our price range (country, age, sex......) those are our target for advertisement...\n",
    "- ...so knowing where they go for learning and what do they watch /listen, basically **when it comes to coding where do they spend their time?** \n",
    "- what are the expectations of our target audiance (web dev but also data science games, we could investigate if there are differences between these sub-categories of target\n",
    "\n",
    "\n",
    "questions fom the exercice:\n",
    "- Where are these new coders located.\n",
    "- What are the locations with the greatest number of new coders.\n",
    "- How much money new coders are willing to spend on learning."
   ]
  },
  {
   "cell_type": "code",
   "execution_count": 292,
   "metadata": {
    "collapsed": false
   },
   "outputs": [],
   "source": [
    "import pandas as pd\n",
    "import numpy as np\n",
    "pd.set_option('display.max_columns', 500)\n",
    "import matplotlib.pyplot as plt\n",
    "%matplotlib inline \n",
    "plt.style.use('fivethirtyeight')"
   ]
  },
  {
   "cell_type": "code",
   "execution_count": 293,
   "metadata": {
    "collapsed": false
   },
   "outputs": [
    {
     "name": "stderr",
     "output_type": "stream",
     "text": [
      "/dataquest/system/env/python3/lib/python3.4/site-packages/IPython/core/interactiveshell.py:2723: DtypeWarning:\n",
      "\n",
      "Columns (17,62) have mixed types. Specify dtype option on import or set low_memory=False.\n",
      "\n"
     ]
    }
   ],
   "source": [
    "#read the dataset\n",
    "survey = pd.read_csv('2017-fCC-New-Coders-Survey-Data.csv')"
   ]
  },
  {
   "cell_type": "markdown",
   "metadata": {},
   "source": [
    "There are issues with the type of data in 2 columns, we gonna fix that:"
   ]
  },
  {
   "cell_type": "code",
   "execution_count": 294,
   "metadata": {
    "collapsed": false
   },
   "outputs": [
    {
     "data": {
      "text/plain": [
       "Index(['CodeEventOther', 'JobInterestOther'], dtype='object')"
      ]
     },
     "execution_count": 294,
     "metadata": {},
     "output_type": "execute_result"
    }
   ],
   "source": [
    "survey.columns[[17,62]]"
   ]
  },
  {
   "cell_type": "code",
   "execution_count": 295,
   "metadata": {
    "collapsed": false
   },
   "outputs": [
    {
     "data": {
      "text/plain": [
       "No                                                           21\n",
       "Ladies Learning Code                                          9\n",
       "General Assembly                                              8\n",
       "Bootcamp                                                      8\n",
       "School                                                        8\n",
       "Na                                                            6\n",
       "Codebar                                                       5\n",
       "No One                                                        5\n",
       "GDG                                                           4\n",
       "Hour Of Code                                                  3\n",
       "College                                                       3\n",
       "Google Developer Group                                        3\n",
       "WordCamp                                                      3\n",
       "Any                                                           3\n",
       "Coding Bootcamp                                               3\n",
       "Coding Dojo                                                   3\n",
       "Andela Bootcamp                                               3\n",
       "Code First: Girls                                             3\n",
       "Local Events                                                  3\n",
       "PyLadies                                                      3\n",
       "Null                                                          2\n",
       "Udemy                                                         2\n",
       "No Events                                                     2\n",
       "CodeNewbie                                                    2\n",
       "Codechef                                                      2\n",
       "Hear Me Code                                                  2\n",
       "The Iron Yard                                                 2\n",
       "Ironhack                                                      2\n",
       "Competitive Programming                                       2\n",
       "Youtube                                                       2\n",
       "                                                             ..\n",
       "Bitmaker (Toronto, ON - CA)                                   1\n",
       "7 Week Bootcamp                                               1\n",
       "Py Ohio (Hosted By Local Meetup \"Python Ohio\" Every Year)     1\n",
       "My Friend                                                     1\n",
       "Other School                                                  1\n",
       "Coder Dojo                                                    1\n",
       "School Events Such As Cat Barcamp                             1\n",
       "App Academy Prep Course                                       1\n",
       "A Class At Community College                                  1\n",
       "Learners Guild Enrollment Day                                 1\n",
       "N A                                                           1\n",
       "Meetup Data Girls                                             1\n",
       "Library Hosted Classes And Workshops                          1\n",
       "Baseball Hack Day                                             1\n",
       "PHP Courses                                                   1\n",
       "Local Event Called CodeCamp                                   1\n",
       "Local Lectures From College                                   1\n",
       "Campus Party Brasil 2017                                      1\n",
       "Html500 Vancouver                                             1\n",
       "CoderDojo Silicon Valley                                      1\n",
       "Codecool                                                      1\n",
       "Meet Up And Teaching                                          1\n",
       "Python For (Typo)Graphic Designers                            1\n",
       "Code For Miami                                                1\n",
       "Week Long Bootcamp                                            1\n",
       "Conferences                                                   1\n",
       "Legal Hackers                                                 1\n",
       "MyCocoahead                                                   1\n",
       "Pyday                                                         1\n",
       "Laracast                                                      1\n",
       "Name: CodeEventOther, Length: 463, dtype: int64"
      ]
     },
     "execution_count": 295,
     "metadata": {},
     "output_type": "execute_result"
    }
   ],
   "source": [
    "survey['CodeEventOther'].value_counts()"
   ]
  },
  {
   "cell_type": "code",
   "execution_count": 296,
   "metadata": {
    "collapsed": false
   },
   "outputs": [],
   "source": [
    "#fixing the type of the data in col 17 and 62\n",
    "survey = pd.read_csv('2017-fCC-New-Coders-Survey-Data.csv',\n",
    "                     dtype={\"CodeEventOther\": object, \"JobInterestOther\": object}\n",
    "                    )"
   ]
  },
  {
   "cell_type": "code",
   "execution_count": 297,
   "metadata": {
    "collapsed": false
   },
   "outputs": [
    {
     "name": "stdout",
     "output_type": "stream",
     "text": [
      "<class 'pandas.core.frame.DataFrame'>\n",
      "RangeIndex: 18175 entries, 0 to 18174\n",
      "Columns: 136 entries, Age to YouTubeTheNewBoston\n",
      "dtypes: float64(105), object(31)\n",
      "memory usage: 18.9+ MB\n"
     ]
    }
   ],
   "source": [
    "survey.info()"
   ]
  },
  {
   "cell_type": "code",
   "execution_count": 298,
   "metadata": {
    "collapsed": false
   },
   "outputs": [
    {
     "data": {
      "text/html": [
       "<div>\n",
       "<style scoped>\n",
       "    .dataframe tbody tr th:only-of-type {\n",
       "        vertical-align: middle;\n",
       "    }\n",
       "\n",
       "    .dataframe tbody tr th {\n",
       "        vertical-align: top;\n",
       "    }\n",
       "\n",
       "    .dataframe thead th {\n",
       "        text-align: right;\n",
       "    }\n",
       "</style>\n",
       "<table border=\"1\" class=\"dataframe\">\n",
       "  <thead>\n",
       "    <tr style=\"text-align: right;\">\n",
       "      <th></th>\n",
       "      <th>Age</th>\n",
       "      <th>AttendedBootcamp</th>\n",
       "      <th>BootcampFinish</th>\n",
       "      <th>BootcampLoanYesNo</th>\n",
       "      <th>BootcampName</th>\n",
       "      <th>BootcampRecommend</th>\n",
       "      <th>ChildrenNumber</th>\n",
       "      <th>CityPopulation</th>\n",
       "      <th>CodeEventConferences</th>\n",
       "      <th>CodeEventDjangoGirls</th>\n",
       "      <th>CodeEventFCC</th>\n",
       "      <th>CodeEventGameJam</th>\n",
       "      <th>CodeEventGirlDev</th>\n",
       "      <th>CodeEventHackathons</th>\n",
       "      <th>CodeEventMeetup</th>\n",
       "      <th>CodeEventNodeSchool</th>\n",
       "      <th>CodeEventNone</th>\n",
       "      <th>CodeEventOther</th>\n",
       "      <th>CodeEventRailsBridge</th>\n",
       "      <th>CodeEventRailsGirls</th>\n",
       "      <th>CodeEventStartUpWknd</th>\n",
       "      <th>CodeEventWkdBootcamps</th>\n",
       "      <th>CodeEventWomenCode</th>\n",
       "      <th>CodeEventWorkshops</th>\n",
       "      <th>CommuteTime</th>\n",
       "      <th>CountryCitizen</th>\n",
       "      <th>CountryLive</th>\n",
       "      <th>EmploymentField</th>\n",
       "      <th>EmploymentFieldOther</th>\n",
       "      <th>EmploymentStatus</th>\n",
       "      <th>EmploymentStatusOther</th>\n",
       "      <th>ExpectedEarning</th>\n",
       "      <th>FinanciallySupporting</th>\n",
       "      <th>FirstDevJob</th>\n",
       "      <th>Gender</th>\n",
       "      <th>GenderOther</th>\n",
       "      <th>HasChildren</th>\n",
       "      <th>HasDebt</th>\n",
       "      <th>HasFinancialDependents</th>\n",
       "      <th>HasHighSpdInternet</th>\n",
       "      <th>HasHomeMortgage</th>\n",
       "      <th>HasServedInMilitary</th>\n",
       "      <th>HasStudentDebt</th>\n",
       "      <th>HomeMortgageOwe</th>\n",
       "      <th>HoursLearning</th>\n",
       "      <th>ID.x</th>\n",
       "      <th>ID.y</th>\n",
       "      <th>Income</th>\n",
       "      <th>IsEthnicMinority</th>\n",
       "      <th>IsReceiveDisabilitiesBenefits</th>\n",
       "      <th>IsSoftwareDev</th>\n",
       "      <th>IsUnderEmployed</th>\n",
       "      <th>JobApplyWhen</th>\n",
       "      <th>JobInterestBackEnd</th>\n",
       "      <th>JobInterestDataEngr</th>\n",
       "      <th>JobInterestDataSci</th>\n",
       "      <th>JobInterestDevOps</th>\n",
       "      <th>JobInterestFrontEnd</th>\n",
       "      <th>JobInterestFullStack</th>\n",
       "      <th>JobInterestGameDev</th>\n",
       "      <th>JobInterestInfoSec</th>\n",
       "      <th>JobInterestMobile</th>\n",
       "      <th>JobInterestOther</th>\n",
       "      <th>JobInterestProjMngr</th>\n",
       "      <th>JobInterestQAEngr</th>\n",
       "      <th>JobInterestUX</th>\n",
       "      <th>JobPref</th>\n",
       "      <th>JobRelocateYesNo</th>\n",
       "      <th>JobRoleInterest</th>\n",
       "      <th>JobWherePref</th>\n",
       "      <th>LanguageAtHome</th>\n",
       "      <th>MaritalStatus</th>\n",
       "      <th>MoneyForLearning</th>\n",
       "      <th>MonthsProgramming</th>\n",
       "      <th>NetworkID</th>\n",
       "      <th>Part1EndTime</th>\n",
       "      <th>Part1StartTime</th>\n",
       "      <th>Part2EndTime</th>\n",
       "      <th>Part2StartTime</th>\n",
       "      <th>PodcastChangeLog</th>\n",
       "      <th>PodcastCodeNewbie</th>\n",
       "      <th>PodcastCodePen</th>\n",
       "      <th>PodcastDevTea</th>\n",
       "      <th>PodcastDotNET</th>\n",
       "      <th>PodcastGiantRobots</th>\n",
       "      <th>PodcastJSAir</th>\n",
       "      <th>PodcastJSJabber</th>\n",
       "      <th>PodcastNone</th>\n",
       "      <th>PodcastOther</th>\n",
       "      <th>PodcastProgThrowdown</th>\n",
       "      <th>PodcastRubyRogues</th>\n",
       "      <th>PodcastSEDaily</th>\n",
       "      <th>PodcastSERadio</th>\n",
       "      <th>PodcastShopTalk</th>\n",
       "      <th>PodcastTalkPython</th>\n",
       "      <th>PodcastTheWebAhead</th>\n",
       "      <th>ResourceCodecademy</th>\n",
       "      <th>ResourceCodeWars</th>\n",
       "      <th>ResourceCoursera</th>\n",
       "      <th>ResourceCSS</th>\n",
       "      <th>ResourceEdX</th>\n",
       "      <th>ResourceEgghead</th>\n",
       "      <th>ResourceFCC</th>\n",
       "      <th>ResourceHackerRank</th>\n",
       "      <th>ResourceKA</th>\n",
       "      <th>ResourceLynda</th>\n",
       "      <th>ResourceMDN</th>\n",
       "      <th>ResourceOdinProj</th>\n",
       "      <th>ResourceOther</th>\n",
       "      <th>ResourcePluralSight</th>\n",
       "      <th>ResourceSkillcrush</th>\n",
       "      <th>ResourceSO</th>\n",
       "      <th>ResourceTreehouse</th>\n",
       "      <th>ResourceUdacity</th>\n",
       "      <th>ResourceUdemy</th>\n",
       "      <th>ResourceW3S</th>\n",
       "      <th>SchoolDegree</th>\n",
       "      <th>SchoolMajor</th>\n",
       "      <th>StudentDebtOwe</th>\n",
       "      <th>YouTubeCodeCourse</th>\n",
       "      <th>YouTubeCodingTrain</th>\n",
       "      <th>YouTubeCodingTut360</th>\n",
       "      <th>YouTubeComputerphile</th>\n",
       "      <th>YouTubeDerekBanas</th>\n",
       "      <th>YouTubeDevTips</th>\n",
       "      <th>YouTubeEngineeredTruth</th>\n",
       "      <th>YouTubeFCC</th>\n",
       "      <th>YouTubeFunFunFunction</th>\n",
       "      <th>YouTubeGoogleDev</th>\n",
       "      <th>YouTubeLearnCode</th>\n",
       "      <th>YouTubeLevelUpTuts</th>\n",
       "      <th>YouTubeMIT</th>\n",
       "      <th>YouTubeMozillaHacks</th>\n",
       "      <th>YouTubeOther</th>\n",
       "      <th>YouTubeSimplilearn</th>\n",
       "      <th>YouTubeTheNewBoston</th>\n",
       "    </tr>\n",
       "  </thead>\n",
       "  <tbody>\n",
       "    <tr>\n",
       "      <th>0</th>\n",
       "      <td>27.0</td>\n",
       "      <td>0.0</td>\n",
       "      <td>NaN</td>\n",
       "      <td>NaN</td>\n",
       "      <td>NaN</td>\n",
       "      <td>NaN</td>\n",
       "      <td>NaN</td>\n",
       "      <td>more than 1 million</td>\n",
       "      <td>NaN</td>\n",
       "      <td>NaN</td>\n",
       "      <td>NaN</td>\n",
       "      <td>NaN</td>\n",
       "      <td>NaN</td>\n",
       "      <td>NaN</td>\n",
       "      <td>NaN</td>\n",
       "      <td>NaN</td>\n",
       "      <td>NaN</td>\n",
       "      <td>NaN</td>\n",
       "      <td>NaN</td>\n",
       "      <td>NaN</td>\n",
       "      <td>NaN</td>\n",
       "      <td>NaN</td>\n",
       "      <td>NaN</td>\n",
       "      <td>NaN</td>\n",
       "      <td>15 to 29 minutes</td>\n",
       "      <td>Canada</td>\n",
       "      <td>Canada</td>\n",
       "      <td>software development and IT</td>\n",
       "      <td>NaN</td>\n",
       "      <td>Employed for wages</td>\n",
       "      <td>NaN</td>\n",
       "      <td>NaN</td>\n",
       "      <td>NaN</td>\n",
       "      <td>NaN</td>\n",
       "      <td>female</td>\n",
       "      <td>NaN</td>\n",
       "      <td>NaN</td>\n",
       "      <td>1.0</td>\n",
       "      <td>0.0</td>\n",
       "      <td>1.0</td>\n",
       "      <td>0.0</td>\n",
       "      <td>0.0</td>\n",
       "      <td>0.0</td>\n",
       "      <td>NaN</td>\n",
       "      <td>15.0</td>\n",
       "      <td>02d9465b21e8bd09374b0066fb2d5614</td>\n",
       "      <td>eb78c1c3ac6cd9052aec557065070fbf</td>\n",
       "      <td>NaN</td>\n",
       "      <td>NaN</td>\n",
       "      <td>0.0</td>\n",
       "      <td>0.0</td>\n",
       "      <td>0.0</td>\n",
       "      <td>NaN</td>\n",
       "      <td>NaN</td>\n",
       "      <td>NaN</td>\n",
       "      <td>NaN</td>\n",
       "      <td>NaN</td>\n",
       "      <td>NaN</td>\n",
       "      <td>NaN</td>\n",
       "      <td>NaN</td>\n",
       "      <td>NaN</td>\n",
       "      <td>NaN</td>\n",
       "      <td>NaN</td>\n",
       "      <td>NaN</td>\n",
       "      <td>NaN</td>\n",
       "      <td>NaN</td>\n",
       "      <td>start your own business</td>\n",
       "      <td>NaN</td>\n",
       "      <td>NaN</td>\n",
       "      <td>NaN</td>\n",
       "      <td>English</td>\n",
       "      <td>married or domestic partnership</td>\n",
       "      <td>150.0</td>\n",
       "      <td>6.0</td>\n",
       "      <td>6f1fbc6b2b</td>\n",
       "      <td>2017-03-09 00:36:22</td>\n",
       "      <td>2017-03-09 00:32:59</td>\n",
       "      <td>2017-03-09 00:59:46</td>\n",
       "      <td>2017-03-09 00:36:26</td>\n",
       "      <td>NaN</td>\n",
       "      <td>NaN</td>\n",
       "      <td>NaN</td>\n",
       "      <td>1.0</td>\n",
       "      <td>NaN</td>\n",
       "      <td>NaN</td>\n",
       "      <td>NaN</td>\n",
       "      <td>NaN</td>\n",
       "      <td>NaN</td>\n",
       "      <td>NaN</td>\n",
       "      <td>NaN</td>\n",
       "      <td>NaN</td>\n",
       "      <td>NaN</td>\n",
       "      <td>NaN</td>\n",
       "      <td>NaN</td>\n",
       "      <td>NaN</td>\n",
       "      <td>NaN</td>\n",
       "      <td>1.0</td>\n",
       "      <td>NaN</td>\n",
       "      <td>NaN</td>\n",
       "      <td>NaN</td>\n",
       "      <td>NaN</td>\n",
       "      <td>NaN</td>\n",
       "      <td>1.0</td>\n",
       "      <td>NaN</td>\n",
       "      <td>NaN</td>\n",
       "      <td>NaN</td>\n",
       "      <td>1.0</td>\n",
       "      <td>NaN</td>\n",
       "      <td>NaN</td>\n",
       "      <td>NaN</td>\n",
       "      <td>NaN</td>\n",
       "      <td>NaN</td>\n",
       "      <td>NaN</td>\n",
       "      <td>NaN</td>\n",
       "      <td>1.0</td>\n",
       "      <td>1.0</td>\n",
       "      <td>some college credit, no degree</td>\n",
       "      <td>NaN</td>\n",
       "      <td>NaN</td>\n",
       "      <td>NaN</td>\n",
       "      <td>NaN</td>\n",
       "      <td>NaN</td>\n",
       "      <td>NaN</td>\n",
       "      <td>NaN</td>\n",
       "      <td>NaN</td>\n",
       "      <td>NaN</td>\n",
       "      <td>NaN</td>\n",
       "      <td>NaN</td>\n",
       "      <td>NaN</td>\n",
       "      <td>NaN</td>\n",
       "      <td>NaN</td>\n",
       "      <td>NaN</td>\n",
       "      <td>NaN</td>\n",
       "      <td>NaN</td>\n",
       "      <td>NaN</td>\n",
       "      <td>NaN</td>\n",
       "    </tr>\n",
       "    <tr>\n",
       "      <th>1</th>\n",
       "      <td>34.0</td>\n",
       "      <td>0.0</td>\n",
       "      <td>NaN</td>\n",
       "      <td>NaN</td>\n",
       "      <td>NaN</td>\n",
       "      <td>NaN</td>\n",
       "      <td>NaN</td>\n",
       "      <td>less than 100,000</td>\n",
       "      <td>NaN</td>\n",
       "      <td>NaN</td>\n",
       "      <td>NaN</td>\n",
       "      <td>NaN</td>\n",
       "      <td>NaN</td>\n",
       "      <td>NaN</td>\n",
       "      <td>NaN</td>\n",
       "      <td>NaN</td>\n",
       "      <td>NaN</td>\n",
       "      <td>NaN</td>\n",
       "      <td>NaN</td>\n",
       "      <td>NaN</td>\n",
       "      <td>NaN</td>\n",
       "      <td>NaN</td>\n",
       "      <td>NaN</td>\n",
       "      <td>NaN</td>\n",
       "      <td>NaN</td>\n",
       "      <td>United States of America</td>\n",
       "      <td>United States of America</td>\n",
       "      <td>NaN</td>\n",
       "      <td>NaN</td>\n",
       "      <td>Not working but looking for work</td>\n",
       "      <td>NaN</td>\n",
       "      <td>35000.0</td>\n",
       "      <td>NaN</td>\n",
       "      <td>NaN</td>\n",
       "      <td>male</td>\n",
       "      <td>NaN</td>\n",
       "      <td>NaN</td>\n",
       "      <td>1.0</td>\n",
       "      <td>0.0</td>\n",
       "      <td>1.0</td>\n",
       "      <td>0.0</td>\n",
       "      <td>0.0</td>\n",
       "      <td>1.0</td>\n",
       "      <td>NaN</td>\n",
       "      <td>10.0</td>\n",
       "      <td>5bfef9ecb211ec4f518cfc1d2a6f3e0c</td>\n",
       "      <td>21db37adb60cdcafadfa7dca1b13b6b1</td>\n",
       "      <td>NaN</td>\n",
       "      <td>0.0</td>\n",
       "      <td>0.0</td>\n",
       "      <td>0.0</td>\n",
       "      <td>NaN</td>\n",
       "      <td>Within 7 to 12 months</td>\n",
       "      <td>NaN</td>\n",
       "      <td>NaN</td>\n",
       "      <td>NaN</td>\n",
       "      <td>NaN</td>\n",
       "      <td>NaN</td>\n",
       "      <td>1.0</td>\n",
       "      <td>NaN</td>\n",
       "      <td>NaN</td>\n",
       "      <td>NaN</td>\n",
       "      <td>NaN</td>\n",
       "      <td>NaN</td>\n",
       "      <td>NaN</td>\n",
       "      <td>NaN</td>\n",
       "      <td>work for a nonprofit</td>\n",
       "      <td>1.0</td>\n",
       "      <td>Full-Stack Web Developer</td>\n",
       "      <td>in an office with other developers</td>\n",
       "      <td>English</td>\n",
       "      <td>single, never married</td>\n",
       "      <td>80.0</td>\n",
       "      <td>6.0</td>\n",
       "      <td>f8f8be6910</td>\n",
       "      <td>2017-03-09 00:37:07</td>\n",
       "      <td>2017-03-09 00:33:26</td>\n",
       "      <td>2017-03-09 00:38:59</td>\n",
       "      <td>2017-03-09 00:37:10</td>\n",
       "      <td>NaN</td>\n",
       "      <td>1.0</td>\n",
       "      <td>NaN</td>\n",
       "      <td>NaN</td>\n",
       "      <td>NaN</td>\n",
       "      <td>NaN</td>\n",
       "      <td>NaN</td>\n",
       "      <td>NaN</td>\n",
       "      <td>NaN</td>\n",
       "      <td>NaN</td>\n",
       "      <td>NaN</td>\n",
       "      <td>NaN</td>\n",
       "      <td>NaN</td>\n",
       "      <td>NaN</td>\n",
       "      <td>NaN</td>\n",
       "      <td>NaN</td>\n",
       "      <td>NaN</td>\n",
       "      <td>1.0</td>\n",
       "      <td>NaN</td>\n",
       "      <td>NaN</td>\n",
       "      <td>1.0</td>\n",
       "      <td>NaN</td>\n",
       "      <td>NaN</td>\n",
       "      <td>1.0</td>\n",
       "      <td>NaN</td>\n",
       "      <td>NaN</td>\n",
       "      <td>NaN</td>\n",
       "      <td>NaN</td>\n",
       "      <td>NaN</td>\n",
       "      <td>NaN</td>\n",
       "      <td>NaN</td>\n",
       "      <td>NaN</td>\n",
       "      <td>1.0</td>\n",
       "      <td>NaN</td>\n",
       "      <td>NaN</td>\n",
       "      <td>1.0</td>\n",
       "      <td>1.0</td>\n",
       "      <td>some college credit, no degree</td>\n",
       "      <td>NaN</td>\n",
       "      <td>NaN</td>\n",
       "      <td>NaN</td>\n",
       "      <td>NaN</td>\n",
       "      <td>NaN</td>\n",
       "      <td>NaN</td>\n",
       "      <td>NaN</td>\n",
       "      <td>NaN</td>\n",
       "      <td>NaN</td>\n",
       "      <td>1.0</td>\n",
       "      <td>NaN</td>\n",
       "      <td>NaN</td>\n",
       "      <td>NaN</td>\n",
       "      <td>NaN</td>\n",
       "      <td>NaN</td>\n",
       "      <td>NaN</td>\n",
       "      <td>NaN</td>\n",
       "      <td>NaN</td>\n",
       "      <td>NaN</td>\n",
       "    </tr>\n",
       "    <tr>\n",
       "      <th>2</th>\n",
       "      <td>21.0</td>\n",
       "      <td>0.0</td>\n",
       "      <td>NaN</td>\n",
       "      <td>NaN</td>\n",
       "      <td>NaN</td>\n",
       "      <td>NaN</td>\n",
       "      <td>NaN</td>\n",
       "      <td>more than 1 million</td>\n",
       "      <td>NaN</td>\n",
       "      <td>NaN</td>\n",
       "      <td>NaN</td>\n",
       "      <td>NaN</td>\n",
       "      <td>NaN</td>\n",
       "      <td>1.0</td>\n",
       "      <td>NaN</td>\n",
       "      <td>1.0</td>\n",
       "      <td>NaN</td>\n",
       "      <td>NaN</td>\n",
       "      <td>NaN</td>\n",
       "      <td>NaN</td>\n",
       "      <td>NaN</td>\n",
       "      <td>NaN</td>\n",
       "      <td>NaN</td>\n",
       "      <td>NaN</td>\n",
       "      <td>15 to 29 minutes</td>\n",
       "      <td>United States of America</td>\n",
       "      <td>United States of America</td>\n",
       "      <td>software development and IT</td>\n",
       "      <td>NaN</td>\n",
       "      <td>Employed for wages</td>\n",
       "      <td>NaN</td>\n",
       "      <td>70000.0</td>\n",
       "      <td>NaN</td>\n",
       "      <td>NaN</td>\n",
       "      <td>male</td>\n",
       "      <td>NaN</td>\n",
       "      <td>NaN</td>\n",
       "      <td>0.0</td>\n",
       "      <td>0.0</td>\n",
       "      <td>1.0</td>\n",
       "      <td>NaN</td>\n",
       "      <td>0.0</td>\n",
       "      <td>NaN</td>\n",
       "      <td>NaN</td>\n",
       "      <td>25.0</td>\n",
       "      <td>14f1863afa9c7de488050b82eb3edd96</td>\n",
       "      <td>21ba173828fbe9e27ccebaf4d5166a55</td>\n",
       "      <td>13000.0</td>\n",
       "      <td>1.0</td>\n",
       "      <td>0.0</td>\n",
       "      <td>0.0</td>\n",
       "      <td>0.0</td>\n",
       "      <td>Within 7 to 12 months</td>\n",
       "      <td>1.0</td>\n",
       "      <td>NaN</td>\n",
       "      <td>NaN</td>\n",
       "      <td>1.0</td>\n",
       "      <td>1.0</td>\n",
       "      <td>1.0</td>\n",
       "      <td>NaN</td>\n",
       "      <td>NaN</td>\n",
       "      <td>1.0</td>\n",
       "      <td>NaN</td>\n",
       "      <td>NaN</td>\n",
       "      <td>NaN</td>\n",
       "      <td>NaN</td>\n",
       "      <td>work for a medium-sized company</td>\n",
       "      <td>1.0</td>\n",
       "      <td>Front-End Web Developer, Back-End Web Develo...</td>\n",
       "      <td>no preference</td>\n",
       "      <td>Spanish</td>\n",
       "      <td>single, never married</td>\n",
       "      <td>1000.0</td>\n",
       "      <td>5.0</td>\n",
       "      <td>2ed189768e</td>\n",
       "      <td>2017-03-09 00:37:58</td>\n",
       "      <td>2017-03-09 00:33:53</td>\n",
       "      <td>2017-03-09 00:40:14</td>\n",
       "      <td>2017-03-09 00:38:02</td>\n",
       "      <td>1.0</td>\n",
       "      <td>NaN</td>\n",
       "      <td>1.0</td>\n",
       "      <td>NaN</td>\n",
       "      <td>NaN</td>\n",
       "      <td>NaN</td>\n",
       "      <td>NaN</td>\n",
       "      <td>NaN</td>\n",
       "      <td>NaN</td>\n",
       "      <td>Codenewbie</td>\n",
       "      <td>NaN</td>\n",
       "      <td>NaN</td>\n",
       "      <td>NaN</td>\n",
       "      <td>NaN</td>\n",
       "      <td>1.0</td>\n",
       "      <td>NaN</td>\n",
       "      <td>NaN</td>\n",
       "      <td>1.0</td>\n",
       "      <td>NaN</td>\n",
       "      <td>NaN</td>\n",
       "      <td>1.0</td>\n",
       "      <td>NaN</td>\n",
       "      <td>NaN</td>\n",
       "      <td>1.0</td>\n",
       "      <td>NaN</td>\n",
       "      <td>NaN</td>\n",
       "      <td>NaN</td>\n",
       "      <td>1.0</td>\n",
       "      <td>NaN</td>\n",
       "      <td>NaN</td>\n",
       "      <td>NaN</td>\n",
       "      <td>NaN</td>\n",
       "      <td>NaN</td>\n",
       "      <td>NaN</td>\n",
       "      <td>1.0</td>\n",
       "      <td>1.0</td>\n",
       "      <td>NaN</td>\n",
       "      <td>high school diploma or equivalent (GED)</td>\n",
       "      <td>NaN</td>\n",
       "      <td>NaN</td>\n",
       "      <td>NaN</td>\n",
       "      <td>NaN</td>\n",
       "      <td>1.0</td>\n",
       "      <td>NaN</td>\n",
       "      <td>1.0</td>\n",
       "      <td>1.0</td>\n",
       "      <td>NaN</td>\n",
       "      <td>NaN</td>\n",
       "      <td>NaN</td>\n",
       "      <td>NaN</td>\n",
       "      <td>1.0</td>\n",
       "      <td>1.0</td>\n",
       "      <td>NaN</td>\n",
       "      <td>NaN</td>\n",
       "      <td>NaN</td>\n",
       "      <td>NaN</td>\n",
       "      <td>NaN</td>\n",
       "    </tr>\n",
       "    <tr>\n",
       "      <th>3</th>\n",
       "      <td>26.0</td>\n",
       "      <td>0.0</td>\n",
       "      <td>NaN</td>\n",
       "      <td>NaN</td>\n",
       "      <td>NaN</td>\n",
       "      <td>NaN</td>\n",
       "      <td>NaN</td>\n",
       "      <td>between 100,000 and 1 million</td>\n",
       "      <td>NaN</td>\n",
       "      <td>NaN</td>\n",
       "      <td>NaN</td>\n",
       "      <td>NaN</td>\n",
       "      <td>NaN</td>\n",
       "      <td>NaN</td>\n",
       "      <td>NaN</td>\n",
       "      <td>NaN</td>\n",
       "      <td>NaN</td>\n",
       "      <td>NaN</td>\n",
       "      <td>NaN</td>\n",
       "      <td>NaN</td>\n",
       "      <td>NaN</td>\n",
       "      <td>NaN</td>\n",
       "      <td>NaN</td>\n",
       "      <td>NaN</td>\n",
       "      <td>I work from home</td>\n",
       "      <td>Brazil</td>\n",
       "      <td>Brazil</td>\n",
       "      <td>software development and IT</td>\n",
       "      <td>NaN</td>\n",
       "      <td>Employed for wages</td>\n",
       "      <td>NaN</td>\n",
       "      <td>40000.0</td>\n",
       "      <td>0.0</td>\n",
       "      <td>NaN</td>\n",
       "      <td>male</td>\n",
       "      <td>NaN</td>\n",
       "      <td>0.0</td>\n",
       "      <td>1.0</td>\n",
       "      <td>1.0</td>\n",
       "      <td>1.0</td>\n",
       "      <td>1.0</td>\n",
       "      <td>0.0</td>\n",
       "      <td>0.0</td>\n",
       "      <td>40000.0</td>\n",
       "      <td>14.0</td>\n",
       "      <td>91756eb4dc280062a541c25a3d44cfb0</td>\n",
       "      <td>3be37b558f02daae93a6da10f83f0c77</td>\n",
       "      <td>24000.0</td>\n",
       "      <td>0.0</td>\n",
       "      <td>0.0</td>\n",
       "      <td>0.0</td>\n",
       "      <td>1.0</td>\n",
       "      <td>Within the next 6 months</td>\n",
       "      <td>1.0</td>\n",
       "      <td>NaN</td>\n",
       "      <td>NaN</td>\n",
       "      <td>NaN</td>\n",
       "      <td>1.0</td>\n",
       "      <td>1.0</td>\n",
       "      <td>NaN</td>\n",
       "      <td>NaN</td>\n",
       "      <td>NaN</td>\n",
       "      <td>NaN</td>\n",
       "      <td>NaN</td>\n",
       "      <td>NaN</td>\n",
       "      <td>NaN</td>\n",
       "      <td>work for a medium-sized company</td>\n",
       "      <td>NaN</td>\n",
       "      <td>Front-End Web Developer, Full-Stack Web Deve...</td>\n",
       "      <td>from home</td>\n",
       "      <td>Portuguese</td>\n",
       "      <td>married or domestic partnership</td>\n",
       "      <td>0.0</td>\n",
       "      <td>5.0</td>\n",
       "      <td>dbdc0664d1</td>\n",
       "      <td>2017-03-09 00:40:13</td>\n",
       "      <td>2017-03-09 00:37:45</td>\n",
       "      <td>2017-03-09 00:42:26</td>\n",
       "      <td>2017-03-09 00:40:18</td>\n",
       "      <td>NaN</td>\n",
       "      <td>NaN</td>\n",
       "      <td>NaN</td>\n",
       "      <td>NaN</td>\n",
       "      <td>NaN</td>\n",
       "      <td>NaN</td>\n",
       "      <td>NaN</td>\n",
       "      <td>NaN</td>\n",
       "      <td>NaN</td>\n",
       "      <td>NaN</td>\n",
       "      <td>NaN</td>\n",
       "      <td>NaN</td>\n",
       "      <td>NaN</td>\n",
       "      <td>NaN</td>\n",
       "      <td>NaN</td>\n",
       "      <td>NaN</td>\n",
       "      <td>NaN</td>\n",
       "      <td>NaN</td>\n",
       "      <td>NaN</td>\n",
       "      <td>NaN</td>\n",
       "      <td>NaN</td>\n",
       "      <td>NaN</td>\n",
       "      <td>1.0</td>\n",
       "      <td>1.0</td>\n",
       "      <td>NaN</td>\n",
       "      <td>NaN</td>\n",
       "      <td>NaN</td>\n",
       "      <td>1.0</td>\n",
       "      <td>NaN</td>\n",
       "      <td>NaN</td>\n",
       "      <td>NaN</td>\n",
       "      <td>NaN</td>\n",
       "      <td>1.0</td>\n",
       "      <td>NaN</td>\n",
       "      <td>NaN</td>\n",
       "      <td>NaN</td>\n",
       "      <td>NaN</td>\n",
       "      <td>some college credit, no degree</td>\n",
       "      <td>NaN</td>\n",
       "      <td>NaN</td>\n",
       "      <td>NaN</td>\n",
       "      <td>NaN</td>\n",
       "      <td>NaN</td>\n",
       "      <td>NaN</td>\n",
       "      <td>NaN</td>\n",
       "      <td>1.0</td>\n",
       "      <td>NaN</td>\n",
       "      <td>1.0</td>\n",
       "      <td>1.0</td>\n",
       "      <td>NaN</td>\n",
       "      <td>NaN</td>\n",
       "      <td>1.0</td>\n",
       "      <td>NaN</td>\n",
       "      <td>NaN</td>\n",
       "      <td>NaN</td>\n",
       "      <td>NaN</td>\n",
       "      <td>NaN</td>\n",
       "    </tr>\n",
       "    <tr>\n",
       "      <th>4</th>\n",
       "      <td>20.0</td>\n",
       "      <td>0.0</td>\n",
       "      <td>NaN</td>\n",
       "      <td>NaN</td>\n",
       "      <td>NaN</td>\n",
       "      <td>NaN</td>\n",
       "      <td>NaN</td>\n",
       "      <td>between 100,000 and 1 million</td>\n",
       "      <td>NaN</td>\n",
       "      <td>NaN</td>\n",
       "      <td>NaN</td>\n",
       "      <td>NaN</td>\n",
       "      <td>NaN</td>\n",
       "      <td>NaN</td>\n",
       "      <td>NaN</td>\n",
       "      <td>NaN</td>\n",
       "      <td>NaN</td>\n",
       "      <td>NaN</td>\n",
       "      <td>NaN</td>\n",
       "      <td>NaN</td>\n",
       "      <td>NaN</td>\n",
       "      <td>NaN</td>\n",
       "      <td>NaN</td>\n",
       "      <td>NaN</td>\n",
       "      <td>NaN</td>\n",
       "      <td>Portugal</td>\n",
       "      <td>Portugal</td>\n",
       "      <td>NaN</td>\n",
       "      <td>NaN</td>\n",
       "      <td>Not working but looking for work</td>\n",
       "      <td>NaN</td>\n",
       "      <td>140000.0</td>\n",
       "      <td>NaN</td>\n",
       "      <td>NaN</td>\n",
       "      <td>female</td>\n",
       "      <td>NaN</td>\n",
       "      <td>NaN</td>\n",
       "      <td>0.0</td>\n",
       "      <td>0.0</td>\n",
       "      <td>1.0</td>\n",
       "      <td>NaN</td>\n",
       "      <td>0.0</td>\n",
       "      <td>NaN</td>\n",
       "      <td>NaN</td>\n",
       "      <td>10.0</td>\n",
       "      <td>aa3f061a1949a90b27bef7411ecd193f</td>\n",
       "      <td>d7c56bbf2c7b62096be9db010e86d96d</td>\n",
       "      <td>NaN</td>\n",
       "      <td>0.0</td>\n",
       "      <td>0.0</td>\n",
       "      <td>0.0</td>\n",
       "      <td>NaN</td>\n",
       "      <td>Within 7 to 12 months</td>\n",
       "      <td>1.0</td>\n",
       "      <td>NaN</td>\n",
       "      <td>NaN</td>\n",
       "      <td>NaN</td>\n",
       "      <td>1.0</td>\n",
       "      <td>1.0</td>\n",
       "      <td>NaN</td>\n",
       "      <td>1.0</td>\n",
       "      <td>1.0</td>\n",
       "      <td>NaN</td>\n",
       "      <td>NaN</td>\n",
       "      <td>NaN</td>\n",
       "      <td>NaN</td>\n",
       "      <td>work for a multinational corporation</td>\n",
       "      <td>1.0</td>\n",
       "      <td>Full-Stack Web Developer, Information Security...</td>\n",
       "      <td>in an office with other developers</td>\n",
       "      <td>Portuguese</td>\n",
       "      <td>single, never married</td>\n",
       "      <td>0.0</td>\n",
       "      <td>24.0</td>\n",
       "      <td>11b0f2d8a9</td>\n",
       "      <td>2017-03-09 00:42:45</td>\n",
       "      <td>2017-03-09 00:39:44</td>\n",
       "      <td>2017-03-09 00:45:42</td>\n",
       "      <td>2017-03-09 00:42:50</td>\n",
       "      <td>NaN</td>\n",
       "      <td>NaN</td>\n",
       "      <td>NaN</td>\n",
       "      <td>NaN</td>\n",
       "      <td>NaN</td>\n",
       "      <td>NaN</td>\n",
       "      <td>NaN</td>\n",
       "      <td>NaN</td>\n",
       "      <td>NaN</td>\n",
       "      <td>NaN</td>\n",
       "      <td>NaN</td>\n",
       "      <td>NaN</td>\n",
       "      <td>NaN</td>\n",
       "      <td>NaN</td>\n",
       "      <td>NaN</td>\n",
       "      <td>NaN</td>\n",
       "      <td>NaN</td>\n",
       "      <td>NaN</td>\n",
       "      <td>NaN</td>\n",
       "      <td>NaN</td>\n",
       "      <td>NaN</td>\n",
       "      <td>NaN</td>\n",
       "      <td>NaN</td>\n",
       "      <td>NaN</td>\n",
       "      <td>NaN</td>\n",
       "      <td>NaN</td>\n",
       "      <td>NaN</td>\n",
       "      <td>NaN</td>\n",
       "      <td>NaN</td>\n",
       "      <td>NaN</td>\n",
       "      <td>NaN</td>\n",
       "      <td>NaN</td>\n",
       "      <td>1.0</td>\n",
       "      <td>NaN</td>\n",
       "      <td>NaN</td>\n",
       "      <td>NaN</td>\n",
       "      <td>NaN</td>\n",
       "      <td>bachelor's degree</td>\n",
       "      <td>Information Technology</td>\n",
       "      <td>NaN</td>\n",
       "      <td>NaN</td>\n",
       "      <td>NaN</td>\n",
       "      <td>NaN</td>\n",
       "      <td>NaN</td>\n",
       "      <td>NaN</td>\n",
       "      <td>NaN</td>\n",
       "      <td>NaN</td>\n",
       "      <td>NaN</td>\n",
       "      <td>NaN</td>\n",
       "      <td>NaN</td>\n",
       "      <td>NaN</td>\n",
       "      <td>NaN</td>\n",
       "      <td>NaN</td>\n",
       "      <td>NaN</td>\n",
       "      <td>NaN</td>\n",
       "      <td>NaN</td>\n",
       "      <td>NaN</td>\n",
       "    </tr>\n",
       "  </tbody>\n",
       "</table>\n",
       "</div>"
      ],
      "text/plain": [
       "    Age  AttendedBootcamp  BootcampFinish  BootcampLoanYesNo BootcampName  \\\n",
       "0  27.0               0.0             NaN                NaN          NaN   \n",
       "1  34.0               0.0             NaN                NaN          NaN   \n",
       "2  21.0               0.0             NaN                NaN          NaN   \n",
       "3  26.0               0.0             NaN                NaN          NaN   \n",
       "4  20.0               0.0             NaN                NaN          NaN   \n",
       "\n",
       "   BootcampRecommend  ChildrenNumber                 CityPopulation  \\\n",
       "0                NaN             NaN            more than 1 million   \n",
       "1                NaN             NaN              less than 100,000   \n",
       "2                NaN             NaN            more than 1 million   \n",
       "3                NaN             NaN  between 100,000 and 1 million   \n",
       "4                NaN             NaN  between 100,000 and 1 million   \n",
       "\n",
       "   CodeEventConferences  CodeEventDjangoGirls  CodeEventFCC  CodeEventGameJam  \\\n",
       "0                   NaN                   NaN           NaN               NaN   \n",
       "1                   NaN                   NaN           NaN               NaN   \n",
       "2                   NaN                   NaN           NaN               NaN   \n",
       "3                   NaN                   NaN           NaN               NaN   \n",
       "4                   NaN                   NaN           NaN               NaN   \n",
       "\n",
       "   CodeEventGirlDev  CodeEventHackathons  CodeEventMeetup  \\\n",
       "0               NaN                  NaN              NaN   \n",
       "1               NaN                  NaN              NaN   \n",
       "2               NaN                  1.0              NaN   \n",
       "3               NaN                  NaN              NaN   \n",
       "4               NaN                  NaN              NaN   \n",
       "\n",
       "   CodeEventNodeSchool  CodeEventNone CodeEventOther  CodeEventRailsBridge  \\\n",
       "0                  NaN            NaN            NaN                   NaN   \n",
       "1                  NaN            NaN            NaN                   NaN   \n",
       "2                  1.0            NaN            NaN                   NaN   \n",
       "3                  NaN            NaN            NaN                   NaN   \n",
       "4                  NaN            NaN            NaN                   NaN   \n",
       "\n",
       "   CodeEventRailsGirls  CodeEventStartUpWknd  CodeEventWkdBootcamps  \\\n",
       "0                  NaN                   NaN                    NaN   \n",
       "1                  NaN                   NaN                    NaN   \n",
       "2                  NaN                   NaN                    NaN   \n",
       "3                  NaN                   NaN                    NaN   \n",
       "4                  NaN                   NaN                    NaN   \n",
       "\n",
       "   CodeEventWomenCode  CodeEventWorkshops       CommuteTime  \\\n",
       "0                 NaN                 NaN  15 to 29 minutes   \n",
       "1                 NaN                 NaN               NaN   \n",
       "2                 NaN                 NaN  15 to 29 minutes   \n",
       "3                 NaN                 NaN  I work from home   \n",
       "4                 NaN                 NaN               NaN   \n",
       "\n",
       "             CountryCitizen               CountryLive  \\\n",
       "0                    Canada                    Canada   \n",
       "1  United States of America  United States of America   \n",
       "2  United States of America  United States of America   \n",
       "3                    Brazil                    Brazil   \n",
       "4                  Portugal                  Portugal   \n",
       "\n",
       "               EmploymentField EmploymentFieldOther  \\\n",
       "0  software development and IT                  NaN   \n",
       "1                          NaN                  NaN   \n",
       "2  software development and IT                  NaN   \n",
       "3  software development and IT                  NaN   \n",
       "4                          NaN                  NaN   \n",
       "\n",
       "                   EmploymentStatus EmploymentStatusOther  ExpectedEarning  \\\n",
       "0                Employed for wages                   NaN              NaN   \n",
       "1  Not working but looking for work                   NaN          35000.0   \n",
       "2                Employed for wages                   NaN          70000.0   \n",
       "3                Employed for wages                   NaN          40000.0   \n",
       "4  Not working but looking for work                   NaN         140000.0   \n",
       "\n",
       "   FinanciallySupporting  FirstDevJob  Gender GenderOther  HasChildren  \\\n",
       "0                    NaN          NaN  female         NaN          NaN   \n",
       "1                    NaN          NaN    male         NaN          NaN   \n",
       "2                    NaN          NaN    male         NaN          NaN   \n",
       "3                    0.0          NaN    male         NaN          0.0   \n",
       "4                    NaN          NaN  female         NaN          NaN   \n",
       "\n",
       "   HasDebt  HasFinancialDependents  HasHighSpdInternet  HasHomeMortgage  \\\n",
       "0      1.0                     0.0                 1.0              0.0   \n",
       "1      1.0                     0.0                 1.0              0.0   \n",
       "2      0.0                     0.0                 1.0              NaN   \n",
       "3      1.0                     1.0                 1.0              1.0   \n",
       "4      0.0                     0.0                 1.0              NaN   \n",
       "\n",
       "   HasServedInMilitary  HasStudentDebt  HomeMortgageOwe  HoursLearning  \\\n",
       "0                  0.0             0.0              NaN           15.0   \n",
       "1                  0.0             1.0              NaN           10.0   \n",
       "2                  0.0             NaN              NaN           25.0   \n",
       "3                  0.0             0.0          40000.0           14.0   \n",
       "4                  0.0             NaN              NaN           10.0   \n",
       "\n",
       "                               ID.x                              ID.y  \\\n",
       "0  02d9465b21e8bd09374b0066fb2d5614  eb78c1c3ac6cd9052aec557065070fbf   \n",
       "1  5bfef9ecb211ec4f518cfc1d2a6f3e0c  21db37adb60cdcafadfa7dca1b13b6b1   \n",
       "2  14f1863afa9c7de488050b82eb3edd96  21ba173828fbe9e27ccebaf4d5166a55   \n",
       "3  91756eb4dc280062a541c25a3d44cfb0  3be37b558f02daae93a6da10f83f0c77   \n",
       "4  aa3f061a1949a90b27bef7411ecd193f  d7c56bbf2c7b62096be9db010e86d96d   \n",
       "\n",
       "    Income  IsEthnicMinority  IsReceiveDisabilitiesBenefits  IsSoftwareDev  \\\n",
       "0      NaN               NaN                            0.0            0.0   \n",
       "1      NaN               0.0                            0.0            0.0   \n",
       "2  13000.0               1.0                            0.0            0.0   \n",
       "3  24000.0               0.0                            0.0            0.0   \n",
       "4      NaN               0.0                            0.0            0.0   \n",
       "\n",
       "   IsUnderEmployed              JobApplyWhen  JobInterestBackEnd  \\\n",
       "0              0.0                       NaN                 NaN   \n",
       "1              NaN     Within 7 to 12 months                 NaN   \n",
       "2              0.0     Within 7 to 12 months                 1.0   \n",
       "3              1.0  Within the next 6 months                 1.0   \n",
       "4              NaN     Within 7 to 12 months                 1.0   \n",
       "\n",
       "   JobInterestDataEngr  JobInterestDataSci  JobInterestDevOps  \\\n",
       "0                  NaN                 NaN                NaN   \n",
       "1                  NaN                 NaN                NaN   \n",
       "2                  NaN                 NaN                1.0   \n",
       "3                  NaN                 NaN                NaN   \n",
       "4                  NaN                 NaN                NaN   \n",
       "\n",
       "   JobInterestFrontEnd  JobInterestFullStack  JobInterestGameDev  \\\n",
       "0                  NaN                   NaN                 NaN   \n",
       "1                  NaN                   1.0                 NaN   \n",
       "2                  1.0                   1.0                 NaN   \n",
       "3                  1.0                   1.0                 NaN   \n",
       "4                  1.0                   1.0                 NaN   \n",
       "\n",
       "   JobInterestInfoSec  JobInterestMobile JobInterestOther  \\\n",
       "0                 NaN                NaN              NaN   \n",
       "1                 NaN                NaN              NaN   \n",
       "2                 NaN                1.0              NaN   \n",
       "3                 NaN                NaN              NaN   \n",
       "4                 1.0                1.0              NaN   \n",
       "\n",
       "   JobInterestProjMngr  JobInterestQAEngr  JobInterestUX  \\\n",
       "0                  NaN                NaN            NaN   \n",
       "1                  NaN                NaN            NaN   \n",
       "2                  NaN                NaN            NaN   \n",
       "3                  NaN                NaN            NaN   \n",
       "4                  NaN                NaN            NaN   \n",
       "\n",
       "                                JobPref  JobRelocateYesNo  \\\n",
       "0               start your own business               NaN   \n",
       "1                  work for a nonprofit               1.0   \n",
       "2       work for a medium-sized company               1.0   \n",
       "3       work for a medium-sized company               NaN   \n",
       "4  work for a multinational corporation               1.0   \n",
       "\n",
       "                                     JobRoleInterest  \\\n",
       "0                                                NaN   \n",
       "1                           Full-Stack Web Developer   \n",
       "2    Front-End Web Developer, Back-End Web Develo...   \n",
       "3    Front-End Web Developer, Full-Stack Web Deve...   \n",
       "4  Full-Stack Web Developer, Information Security...   \n",
       "\n",
       "                         JobWherePref LanguageAtHome  \\\n",
       "0                                 NaN        English   \n",
       "1  in an office with other developers        English   \n",
       "2                       no preference        Spanish   \n",
       "3                           from home     Portuguese   \n",
       "4  in an office with other developers     Portuguese   \n",
       "\n",
       "                     MaritalStatus  MoneyForLearning  MonthsProgramming  \\\n",
       "0  married or domestic partnership             150.0                6.0   \n",
       "1            single, never married              80.0                6.0   \n",
       "2            single, never married            1000.0                5.0   \n",
       "3  married or domestic partnership               0.0                5.0   \n",
       "4            single, never married               0.0               24.0   \n",
       "\n",
       "    NetworkID         Part1EndTime       Part1StartTime         Part2EndTime  \\\n",
       "0  6f1fbc6b2b  2017-03-09 00:36:22  2017-03-09 00:32:59  2017-03-09 00:59:46   \n",
       "1  f8f8be6910  2017-03-09 00:37:07  2017-03-09 00:33:26  2017-03-09 00:38:59   \n",
       "2  2ed189768e  2017-03-09 00:37:58  2017-03-09 00:33:53  2017-03-09 00:40:14   \n",
       "3  dbdc0664d1  2017-03-09 00:40:13  2017-03-09 00:37:45  2017-03-09 00:42:26   \n",
       "4  11b0f2d8a9  2017-03-09 00:42:45  2017-03-09 00:39:44  2017-03-09 00:45:42   \n",
       "\n",
       "        Part2StartTime  PodcastChangeLog  PodcastCodeNewbie  PodcastCodePen  \\\n",
       "0  2017-03-09 00:36:26               NaN                NaN             NaN   \n",
       "1  2017-03-09 00:37:10               NaN                1.0             NaN   \n",
       "2  2017-03-09 00:38:02               1.0                NaN             1.0   \n",
       "3  2017-03-09 00:40:18               NaN                NaN             NaN   \n",
       "4  2017-03-09 00:42:50               NaN                NaN             NaN   \n",
       "\n",
       "   PodcastDevTea  PodcastDotNET  PodcastGiantRobots  PodcastJSAir  \\\n",
       "0            1.0            NaN                 NaN           NaN   \n",
       "1            NaN            NaN                 NaN           NaN   \n",
       "2            NaN            NaN                 NaN           NaN   \n",
       "3            NaN            NaN                 NaN           NaN   \n",
       "4            NaN            NaN                 NaN           NaN   \n",
       "\n",
       "   PodcastJSJabber  PodcastNone PodcastOther  PodcastProgThrowdown  \\\n",
       "0              NaN          NaN          NaN                   NaN   \n",
       "1              NaN          NaN          NaN                   NaN   \n",
       "2              NaN          NaN   Codenewbie                   NaN   \n",
       "3              NaN          NaN          NaN                   NaN   \n",
       "4              NaN          NaN          NaN                   NaN   \n",
       "\n",
       "   PodcastRubyRogues  PodcastSEDaily  PodcastSERadio  PodcastShopTalk  \\\n",
       "0                NaN             NaN             NaN              NaN   \n",
       "1                NaN             NaN             NaN              NaN   \n",
       "2                NaN             NaN             NaN              1.0   \n",
       "3                NaN             NaN             NaN              NaN   \n",
       "4                NaN             NaN             NaN              NaN   \n",
       "\n",
       "   PodcastTalkPython  PodcastTheWebAhead  ResourceCodecademy  \\\n",
       "0                NaN                 NaN                 1.0   \n",
       "1                NaN                 NaN                 1.0   \n",
       "2                NaN                 NaN                 1.0   \n",
       "3                NaN                 NaN                 NaN   \n",
       "4                NaN                 NaN                 NaN   \n",
       "\n",
       "   ResourceCodeWars  ResourceCoursera  ResourceCSS  ResourceEdX  \\\n",
       "0               NaN               NaN          NaN          NaN   \n",
       "1               NaN               NaN          1.0          NaN   \n",
       "2               NaN               NaN          1.0          NaN   \n",
       "3               NaN               NaN          NaN          NaN   \n",
       "4               NaN               NaN          NaN          NaN   \n",
       "\n",
       "   ResourceEgghead  ResourceFCC  ResourceHackerRank  ResourceKA  \\\n",
       "0              NaN          1.0                 NaN         NaN   \n",
       "1              NaN          1.0                 NaN         NaN   \n",
       "2              NaN          1.0                 NaN         NaN   \n",
       "3              1.0          1.0                 NaN         NaN   \n",
       "4              NaN          NaN                 NaN         NaN   \n",
       "\n",
       "   ResourceLynda  ResourceMDN  ResourceOdinProj ResourceOther  \\\n",
       "0            NaN          1.0               NaN           NaN   \n",
       "1            NaN          NaN               NaN           NaN   \n",
       "2            NaN          1.0               NaN           NaN   \n",
       "3            NaN          1.0               NaN           NaN   \n",
       "4            NaN          NaN               NaN           NaN   \n",
       "\n",
       "   ResourcePluralSight  ResourceSkillcrush  ResourceSO  ResourceTreehouse  \\\n",
       "0                  NaN                 NaN         NaN                NaN   \n",
       "1                  NaN                 NaN         1.0                NaN   \n",
       "2                  NaN                 NaN         NaN                NaN   \n",
       "3                  NaN                 NaN         1.0                NaN   \n",
       "4                  NaN                 NaN         1.0                NaN   \n",
       "\n",
       "   ResourceUdacity  ResourceUdemy  ResourceW3S  \\\n",
       "0              NaN            1.0          1.0   \n",
       "1              NaN            1.0          1.0   \n",
       "2              1.0            1.0          NaN   \n",
       "3              NaN            NaN          NaN   \n",
       "4              NaN            NaN          NaN   \n",
       "\n",
       "                              SchoolDegree             SchoolMajor  \\\n",
       "0           some college credit, no degree                     NaN   \n",
       "1           some college credit, no degree                     NaN   \n",
       "2  high school diploma or equivalent (GED)                     NaN   \n",
       "3           some college credit, no degree                     NaN   \n",
       "4                        bachelor's degree  Information Technology   \n",
       "\n",
       "   StudentDebtOwe  YouTubeCodeCourse  YouTubeCodingTrain  YouTubeCodingTut360  \\\n",
       "0             NaN                NaN                 NaN                  NaN   \n",
       "1             NaN                NaN                 NaN                  NaN   \n",
       "2             NaN                NaN                 NaN                  1.0   \n",
       "3             NaN                NaN                 NaN                  NaN   \n",
       "4             NaN                NaN                 NaN                  NaN   \n",
       "\n",
       "   YouTubeComputerphile  YouTubeDerekBanas  YouTubeDevTips  \\\n",
       "0                   NaN                NaN             NaN   \n",
       "1                   NaN                NaN             NaN   \n",
       "2                   NaN                1.0             1.0   \n",
       "3                   NaN                NaN             1.0   \n",
       "4                   NaN                NaN             NaN   \n",
       "\n",
       "   YouTubeEngineeredTruth  YouTubeFCC  YouTubeFunFunFunction  \\\n",
       "0                     NaN         NaN                    NaN   \n",
       "1                     NaN         1.0                    NaN   \n",
       "2                     NaN         NaN                    NaN   \n",
       "3                     NaN         1.0                    1.0   \n",
       "4                     NaN         NaN                    NaN   \n",
       "\n",
       "   YouTubeGoogleDev  YouTubeLearnCode  YouTubeLevelUpTuts  YouTubeMIT  \\\n",
       "0               NaN               NaN                 NaN         NaN   \n",
       "1               NaN               NaN                 NaN         NaN   \n",
       "2               NaN               1.0                 1.0         NaN   \n",
       "3               NaN               NaN                 1.0         NaN   \n",
       "4               NaN               NaN                 NaN         NaN   \n",
       "\n",
       "   YouTubeMozillaHacks YouTubeOther  YouTubeSimplilearn  YouTubeTheNewBoston  \n",
       "0                  NaN          NaN                 NaN                  NaN  \n",
       "1                  NaN          NaN                 NaN                  NaN  \n",
       "2                  NaN          NaN                 NaN                  NaN  \n",
       "3                  NaN          NaN                 NaN                  NaN  \n",
       "4                  NaN          NaN                 NaN                  NaN  "
      ]
     },
     "execution_count": 298,
     "metadata": {},
     "output_type": "execute_result"
    }
   ],
   "source": [
    "survey.head()"
   ]
  },
  {
   "cell_type": "markdown",
   "metadata": {},
   "source": [
    "#### Checking for Sample Representativity\n",
    "The people who answered the survey, are they a good representation of our population of interest? "
   ]
  },
  {
   "cell_type": "code",
   "execution_count": 299,
   "metadata": {
    "collapsed": false
   },
   "outputs": [
    {
     "name": "stdout",
     "output_type": "stream",
     "text": [
      "11183  persons with no interests\n",
      "it represents 61.53 % of our sample\n"
     ]
    }
   ],
   "source": [
    "print(survey['JobRoleInterest'].isnull().sum(), ' persons with no interests')\n",
    "\n",
    "per_no_job_interest= survey['JobRoleInterest'].isnull().sum()/len(survey['JobRoleInterest'])*100\n",
    "print('it represents', round(per_no_job_interest,2), '% of our sample')"
   ]
  },
  {
   "cell_type": "code",
   "execution_count": 300,
   "metadata": {
    "collapsed": false
   },
   "outputs": [
    {
     "data": {
      "text/plain": [
       "<matplotlib.axes._subplots.AxesSubplot at 0x7f5621b12a90>"
      ]
     },
     "execution_count": 300,
     "metadata": {},
     "output_type": "execute_result"
    },
    {
     "data": {
      "image/png": "[encoded data removed]",
      "text/plain": [
       "<matplotlib.figure.Figure at 0x7f56217f2470>"
      ]
     },
     "metadata": {},
     "output_type": "display_data"
    }
   ],
   "source": [
    "survey['JobRoleInterest'].value_counts(normalize=True).head(10).plot.barh()"
   ]
  },
  {
   "cell_type": "markdown",
   "metadata": {},
   "source": [
    "- As we see below, the main categories of interest are well aligned with our course as the main categories of interest are related to Web development. \n",
    "- it makes sense as the survey is from a website teaching code for developement mainly "
   ]
  },
  {
   "cell_type": "code",
   "execution_count": 301,
   "metadata": {
    "collapsed": false
   },
   "outputs": [
    {
     "data": {
      "text/plain": [
       "<matplotlib.axes._subplots.AxesSubplot at 0x7f56221cf4e0>"
      ]
     },
     "execution_count": 301,
     "metadata": {},
     "output_type": "execute_result"
    },
    {
     "data": {
      "image/png": "[encoded data removed]",
      "text/plain": [
       "<matplotlib.figure.Figure at 0x7f5622236ac8>"
      ]
     },
     "metadata": {},
     "output_type": "display_data"
    }
   ],
   "source": [
    "survey['JobRoleInterest'].value_counts(normalize=True).head(10).plot.barh()"
   ]
  },
  {
   "cell_type": "markdown",
   "metadata": {},
   "source": [
    "##### How many people with multiple job interests?"
   ]
  },
  {
   "cell_type": "code",
   "execution_count": 302,
   "metadata": {
    "collapsed": false
   },
   "outputs": [],
   "source": [
    "#isolate the answer not null\n",
    "job_interest_notnull = survey['JobRoleInterest'][survey['JobRoleInterest'].notnull()]"
   ]
  },
  {
   "cell_type": "code",
   "execution_count": 303,
   "metadata": {
    "collapsed": false
   },
   "outputs": [
    {
     "data": {
      "text/plain": [
       "6992"
      ]
     },
     "execution_count": 303,
     "metadata": {},
     "output_type": "execute_result"
    }
   ],
   "source": [
    "len(job_interest_notnull)"
   ]
  },
  {
   "cell_type": "code",
   "execution_count": 304,
   "metadata": {
    "collapsed": false
   },
   "outputs": [],
   "source": [
    "count_multi_interest=0\n",
    "count_one_interest=0\n",
    "total = len(job_interest_notnull)\n",
    "for i in job_interest_notnull:\n",
    "    len_split=len(i.split(','))\n",
    "    if len_split == 1:\n",
    "        count_one_interest += 1\n",
    "    if len_split > 1:\n",
    "        count_multi_interest += 1"
   ]
  },
  {
   "cell_type": "code",
   "execution_count": 305,
   "metadata": {
    "collapsed": false
   },
   "outputs": [
    {
     "name": "stdout",
     "output_type": "stream",
     "text": [
      "6992 persons in total has answered some job interests\n",
      "2213 persons have only one job interest\n",
      "4779 persons with at least 2 job interests\n"
     ]
    },
    {
     "data": {
      "text/plain": [
       "<matplotlib.axes._subplots.AxesSubplot at 0x7f5621905ef0>"
      ]
     },
     "execution_count": 305,
     "metadata": {},
     "output_type": "execute_result"
    },
    {
     "data": {
      "image/png": "[encoded data removed]",
      "text/plain": [
       "<matplotlib.figure.Figure at 0x7f56218fdd30>"
      ]
     },
     "metadata": {},
     "output_type": "display_data"
    }
   ],
   "source": [
    "print(total,'persons in total has answered some job interests')\n",
    "print(count_one_interest, 'persons have only one job interest')\n",
    "print(count_multi_interest,'persons with at least 2 job interests')\n",
    "len(job_interest_notnull)\n",
    "pd.DataFrame(data=[[count_one_interest/total*100],[count_multi_interest/total*100]],\n",
    "             index=['1_interest','multiple_interests']).plot.barh(legend=False)"
   ]
  },
  {
   "cell_type": "markdown",
   "metadata": {},
   "source": [
    "- in the graph above, we see that within the person who answered some jobs interests have more than one so we need to take it into account. \n",
    "\n",
    "=> **let slit the multiple interest and redo the distribution of interest.**"
   ]
  },
  {
   "cell_type": "code",
   "execution_count": 306,
   "metadata": {
    "collapsed": false
   },
   "outputs": [],
   "source": [
    "job_interest_dict={}\n",
    "for interests in job_interest_notnull:\n",
    "    interest_splitted=interests.split(',')\n",
    "    for string in interest_splitted:\n",
    "        string = string.strip().lower()\n",
    "        if string in job_interest_dict:\n",
    "            job_interest_dict[string] += 1\n",
    "        elif string not in job_interest_dict:\n",
    "            job_interest_dict[string] = 1"
   ]
  },
  {
   "cell_type": "code",
   "execution_count": 307,
   "metadata": {
    "collapsed": false
   },
   "outputs": [
    {
     "data": {
      "text/plain": [
       "<matplotlib.text.Text at 0x7f56218f5b00>"
      ]
     },
     "execution_count": 307,
     "metadata": {},
     "output_type": "execute_result"
    },
    {
     "data": {
      "image/png": "[encoded data removed]",
      "text/plain": [
       "<matplotlib.figure.Figure at 0x7f5620d7a470>"
      ]
     },
     "metadata": {},
     "output_type": "display_data"
    }
   ],
   "source": [
    "splitted_job_interests = pd.DataFrame.from_dict(job_interest_dict, orient='index').sort_values(0,ascending=False)\n",
    "splitted_job_interests.columns = ['interest']\n",
    "splitted_job_interests['interest_per'] = splitted_job_interests['interest'] / len(job_interest_notnull) *100\n",
    "\n",
    "splitted_job_interests['interest_per'].head(10).plot.barh()\n",
    "plt.xlabel('% interest among the not null job interests responders')"
   ]
  },
  {
   "cell_type": "markdown",
   "metadata": {},
   "source": [
    "**small conclusion**\n",
    "- the sample is well representative of our target audience as the 3 main are related to web developement, people would like to be full-stack, front-end or back-end at roughfly 60%, 50% and 40% respectively. but if we take all web interest into consideration there is **82%** of the not null responders that have an interest. \n",
    "- then in 4 there is like **33% of interest in mobile dev** and 25% in game development\n",
    "- there is also 25% of interest for data scientist position, so the analyse of this sample would be also beneficiary for us in relation to our data science course."
   ]
  },
  {
   "cell_type": "code",
   "execution_count": 308,
   "metadata": {
    "collapsed": false
   },
   "outputs": [
    {
     "data": {
      "text/plain": [
       "82.68020594965675"
      ]
     },
     "execution_count": 308,
     "metadata": {},
     "output_type": "execute_result"
    }
   ],
   "source": [
    "#any interest in web\n",
    "job_interest_notnull.str.contains('[Ww]eb').sum()/len(job_interest_notnull)*100"
   ]
  },
  {
   "cell_type": "code",
   "execution_count": 309,
   "metadata": {
    "collapsed": false
   },
   "outputs": [
    {
     "data": {
      "text/plain": [
       "32.9662471395881"
      ]
     },
     "execution_count": 309,
     "metadata": {},
     "output_type": "execute_result"
    }
   ],
   "source": [
    "#any job interest relating to mobile\n",
    "job_interest_notnull.str.contains('[Mm]obile').sum()/len(job_interest_notnull)*100"
   ]
  },
  {
   "cell_type": "markdown",
   "metadata": {},
   "source": [
    "### New Coders, where are they and what densities\n",
    "We would like to know where these new coders are living"
   ]
  },
  {
   "cell_type": "code",
   "execution_count": 310,
   "metadata": {
    "collapsed": true
   },
   "outputs": [],
   "source": [
    "#remove data from people who did not answer the job interest\n",
    "data_with_interest= survey[survey['JobRoleInterest'].notnull()].copy()"
   ]
  },
  {
   "cell_type": "code",
   "execution_count": 311,
   "metadata": {
    "collapsed": false
   },
   "outputs": [
    {
     "data": {
      "text/html": [
       "<div>\n",
       "<style scoped>\n",
       "    .dataframe tbody tr th:only-of-type {\n",
       "        vertical-align: middle;\n",
       "    }\n",
       "\n",
       "    .dataframe tbody tr th {\n",
       "        vertical-align: top;\n",
       "    }\n",
       "\n",
       "    .dataframe thead th {\n",
       "        text-align: right;\n",
       "    }\n",
       "</style>\n",
       "<table border=\"1\" class=\"dataframe\">\n",
       "  <thead>\n",
       "    <tr style=\"text-align: right;\">\n",
       "      <th></th>\n",
       "      <th>absolute_count</th>\n",
       "      <th>relative_count</th>\n",
       "    </tr>\n",
       "  </thead>\n",
       "  <tbody>\n",
       "    <tr>\n",
       "      <th>United States of America</th>\n",
       "      <td>3125</td>\n",
       "      <td>45.70</td>\n",
       "    </tr>\n",
       "    <tr>\n",
       "      <th>India</th>\n",
       "      <td>528</td>\n",
       "      <td>7.72</td>\n",
       "    </tr>\n",
       "    <tr>\n",
       "      <th>United Kingdom</th>\n",
       "      <td>315</td>\n",
       "      <td>4.61</td>\n",
       "    </tr>\n",
       "    <tr>\n",
       "      <th>Canada</th>\n",
       "      <td>260</td>\n",
       "      <td>3.80</td>\n",
       "    </tr>\n",
       "    <tr>\n",
       "      <th>Poland</th>\n",
       "      <td>131</td>\n",
       "      <td>1.92</td>\n",
       "    </tr>\n",
       "    <tr>\n",
       "      <th>Brazil</th>\n",
       "      <td>129</td>\n",
       "      <td>1.89</td>\n",
       "    </tr>\n",
       "    <tr>\n",
       "      <th>Germany</th>\n",
       "      <td>125</td>\n",
       "      <td>1.83</td>\n",
       "    </tr>\n",
       "    <tr>\n",
       "      <th>Australia</th>\n",
       "      <td>112</td>\n",
       "      <td>1.64</td>\n",
       "    </tr>\n",
       "    <tr>\n",
       "      <th>Russia</th>\n",
       "      <td>102</td>\n",
       "      <td>1.49</td>\n",
       "    </tr>\n",
       "    <tr>\n",
       "      <th>Ukraine</th>\n",
       "      <td>89</td>\n",
       "      <td>1.30</td>\n",
       "    </tr>\n",
       "    <tr>\n",
       "      <th>Nigeria</th>\n",
       "      <td>84</td>\n",
       "      <td>1.23</td>\n",
       "    </tr>\n",
       "    <tr>\n",
       "      <th>Spain</th>\n",
       "      <td>77</td>\n",
       "      <td>1.13</td>\n",
       "    </tr>\n",
       "    <tr>\n",
       "      <th>France</th>\n",
       "      <td>75</td>\n",
       "      <td>1.10</td>\n",
       "    </tr>\n",
       "    <tr>\n",
       "      <th>Romania</th>\n",
       "      <td>71</td>\n",
       "      <td>1.04</td>\n",
       "    </tr>\n",
       "    <tr>\n",
       "      <th>Netherlands (Holland, Europe)</th>\n",
       "      <td>65</td>\n",
       "      <td>0.95</td>\n",
       "    </tr>\n",
       "    <tr>\n",
       "      <th>Italy</th>\n",
       "      <td>62</td>\n",
       "      <td>0.91</td>\n",
       "    </tr>\n",
       "    <tr>\n",
       "      <th>Serbia</th>\n",
       "      <td>52</td>\n",
       "      <td>0.76</td>\n",
       "    </tr>\n",
       "    <tr>\n",
       "      <th>Philippines</th>\n",
       "      <td>52</td>\n",
       "      <td>0.76</td>\n",
       "    </tr>\n",
       "    <tr>\n",
       "      <th>Greece</th>\n",
       "      <td>46</td>\n",
       "      <td>0.67</td>\n",
       "    </tr>\n",
       "    <tr>\n",
       "      <th>Ireland</th>\n",
       "      <td>43</td>\n",
       "      <td>0.63</td>\n",
       "    </tr>\n",
       "    <tr>\n",
       "      <th>South Africa</th>\n",
       "      <td>39</td>\n",
       "      <td>0.57</td>\n",
       "    </tr>\n",
       "    <tr>\n",
       "      <th>Mexico</th>\n",
       "      <td>37</td>\n",
       "      <td>0.54</td>\n",
       "    </tr>\n",
       "    <tr>\n",
       "      <th>Turkey</th>\n",
       "      <td>36</td>\n",
       "      <td>0.53</td>\n",
       "    </tr>\n",
       "    <tr>\n",
       "      <th>Hungary</th>\n",
       "      <td>34</td>\n",
       "      <td>0.50</td>\n",
       "    </tr>\n",
       "    <tr>\n",
       "      <th>Singapore</th>\n",
       "      <td>34</td>\n",
       "      <td>0.50</td>\n",
       "    </tr>\n",
       "    <tr>\n",
       "      <th>New Zealand</th>\n",
       "      <td>33</td>\n",
       "      <td>0.48</td>\n",
       "    </tr>\n",
       "    <tr>\n",
       "      <th>Argentina</th>\n",
       "      <td>32</td>\n",
       "      <td>0.47</td>\n",
       "    </tr>\n",
       "    <tr>\n",
       "      <th>Croatia</th>\n",
       "      <td>32</td>\n",
       "      <td>0.47</td>\n",
       "    </tr>\n",
       "    <tr>\n",
       "      <th>Pakistan</th>\n",
       "      <td>31</td>\n",
       "      <td>0.45</td>\n",
       "    </tr>\n",
       "    <tr>\n",
       "      <th>Sweden</th>\n",
       "      <td>31</td>\n",
       "      <td>0.45</td>\n",
       "    </tr>\n",
       "    <tr>\n",
       "      <th>...</th>\n",
       "      <td>...</td>\n",
       "      <td>...</td>\n",
       "    </tr>\n",
       "    <tr>\n",
       "      <th>Angola</th>\n",
       "      <td>1</td>\n",
       "      <td>0.01</td>\n",
       "    </tr>\n",
       "    <tr>\n",
       "      <th>Gambia</th>\n",
       "      <td>1</td>\n",
       "      <td>0.01</td>\n",
       "    </tr>\n",
       "    <tr>\n",
       "      <th>Jordan</th>\n",
       "      <td>1</td>\n",
       "      <td>0.01</td>\n",
       "    </tr>\n",
       "    <tr>\n",
       "      <th>Channel Islands</th>\n",
       "      <td>1</td>\n",
       "      <td>0.01</td>\n",
       "    </tr>\n",
       "    <tr>\n",
       "      <th>Cuba</th>\n",
       "      <td>1</td>\n",
       "      <td>0.01</td>\n",
       "    </tr>\n",
       "    <tr>\n",
       "      <th>Yemen</th>\n",
       "      <td>1</td>\n",
       "      <td>0.01</td>\n",
       "    </tr>\n",
       "    <tr>\n",
       "      <th>Sudan</th>\n",
       "      <td>1</td>\n",
       "      <td>0.01</td>\n",
       "    </tr>\n",
       "    <tr>\n",
       "      <th>Aruba</th>\n",
       "      <td>1</td>\n",
       "      <td>0.01</td>\n",
       "    </tr>\n",
       "    <tr>\n",
       "      <th>Kyrgyzstan</th>\n",
       "      <td>1</td>\n",
       "      <td>0.01</td>\n",
       "    </tr>\n",
       "    <tr>\n",
       "      <th>Trinidad &amp; Tobago</th>\n",
       "      <td>1</td>\n",
       "      <td>0.01</td>\n",
       "    </tr>\n",
       "    <tr>\n",
       "      <th>Nambia</th>\n",
       "      <td>1</td>\n",
       "      <td>0.01</td>\n",
       "    </tr>\n",
       "    <tr>\n",
       "      <th>Bolivia</th>\n",
       "      <td>1</td>\n",
       "      <td>0.01</td>\n",
       "    </tr>\n",
       "    <tr>\n",
       "      <th>Samoa</th>\n",
       "      <td>1</td>\n",
       "      <td>0.01</td>\n",
       "    </tr>\n",
       "    <tr>\n",
       "      <th>Qatar</th>\n",
       "      <td>1</td>\n",
       "      <td>0.01</td>\n",
       "    </tr>\n",
       "    <tr>\n",
       "      <th>Cayman Islands</th>\n",
       "      <td>1</td>\n",
       "      <td>0.01</td>\n",
       "    </tr>\n",
       "    <tr>\n",
       "      <th>Guadeloupe</th>\n",
       "      <td>1</td>\n",
       "      <td>0.01</td>\n",
       "    </tr>\n",
       "    <tr>\n",
       "      <th>Vanuatu</th>\n",
       "      <td>1</td>\n",
       "      <td>0.01</td>\n",
       "    </tr>\n",
       "    <tr>\n",
       "      <th>Gibraltar</th>\n",
       "      <td>1</td>\n",
       "      <td>0.01</td>\n",
       "    </tr>\n",
       "    <tr>\n",
       "      <th>Guatemala</th>\n",
       "      <td>1</td>\n",
       "      <td>0.01</td>\n",
       "    </tr>\n",
       "    <tr>\n",
       "      <th>Turkmenistan</th>\n",
       "      <td>1</td>\n",
       "      <td>0.01</td>\n",
       "    </tr>\n",
       "    <tr>\n",
       "      <th>Mozambique</th>\n",
       "      <td>1</td>\n",
       "      <td>0.01</td>\n",
       "    </tr>\n",
       "    <tr>\n",
       "      <th>Panama</th>\n",
       "      <td>1</td>\n",
       "      <td>0.01</td>\n",
       "    </tr>\n",
       "    <tr>\n",
       "      <th>Liberia</th>\n",
       "      <td>1</td>\n",
       "      <td>0.01</td>\n",
       "    </tr>\n",
       "    <tr>\n",
       "      <th>Nicaragua</th>\n",
       "      <td>1</td>\n",
       "      <td>0.01</td>\n",
       "    </tr>\n",
       "    <tr>\n",
       "      <th>Papua New Guinea</th>\n",
       "      <td>1</td>\n",
       "      <td>0.01</td>\n",
       "    </tr>\n",
       "    <tr>\n",
       "      <th>Rwanda</th>\n",
       "      <td>1</td>\n",
       "      <td>0.01</td>\n",
       "    </tr>\n",
       "    <tr>\n",
       "      <th>Botswana</th>\n",
       "      <td>1</td>\n",
       "      <td>0.01</td>\n",
       "    </tr>\n",
       "    <tr>\n",
       "      <th>Myanmar</th>\n",
       "      <td>1</td>\n",
       "      <td>0.01</td>\n",
       "    </tr>\n",
       "    <tr>\n",
       "      <th>Somalia</th>\n",
       "      <td>1</td>\n",
       "      <td>0.01</td>\n",
       "    </tr>\n",
       "    <tr>\n",
       "      <th>Anguilla</th>\n",
       "      <td>1</td>\n",
       "      <td>0.01</td>\n",
       "    </tr>\n",
       "  </tbody>\n",
       "</table>\n",
       "<p>137 rows × 2 columns</p>\n",
       "</div>"
      ],
      "text/plain": [
       "                               absolute_count  relative_count\n",
       "United States of America                 3125           45.70\n",
       "India                                     528            7.72\n",
       "United Kingdom                            315            4.61\n",
       "Canada                                    260            3.80\n",
       "Poland                                    131            1.92\n",
       "Brazil                                    129            1.89\n",
       "Germany                                   125            1.83\n",
       "Australia                                 112            1.64\n",
       "Russia                                    102            1.49\n",
       "Ukraine                                    89            1.30\n",
       "Nigeria                                    84            1.23\n",
       "Spain                                      77            1.13\n",
       "France                                     75            1.10\n",
       "Romania                                    71            1.04\n",
       "Netherlands (Holland, Europe)              65            0.95\n",
       "Italy                                      62            0.91\n",
       "Serbia                                     52            0.76\n",
       "Philippines                                52            0.76\n",
       "Greece                                     46            0.67\n",
       "Ireland                                    43            0.63\n",
       "South Africa                               39            0.57\n",
       "Mexico                                     37            0.54\n",
       "Turkey                                     36            0.53\n",
       "Hungary                                    34            0.50\n",
       "Singapore                                  34            0.50\n",
       "New Zealand                                33            0.48\n",
       "Argentina                                  32            0.47\n",
       "Croatia                                    32            0.47\n",
       "Pakistan                                   31            0.45\n",
       "Sweden                                     31            0.45\n",
       "...                                       ...             ...\n",
       "Angola                                      1            0.01\n",
       "Gambia                                      1            0.01\n",
       "Jordan                                      1            0.01\n",
       "Channel Islands                             1            0.01\n",
       "Cuba                                        1            0.01\n",
       "Yemen                                       1            0.01\n",
       "Sudan                                       1            0.01\n",
       "Aruba                                       1            0.01\n",
       "Kyrgyzstan                                  1            0.01\n",
       "Trinidad & Tobago                           1            0.01\n",
       "Nambia                                      1            0.01\n",
       "Bolivia                                     1            0.01\n",
       "Samoa                                       1            0.01\n",
       "Qatar                                       1            0.01\n",
       "Cayman Islands                              1            0.01\n",
       "Guadeloupe                                  1            0.01\n",
       "Vanuatu                                     1            0.01\n",
       "Gibraltar                                   1            0.01\n",
       "Guatemala                                   1            0.01\n",
       "Turkmenistan                                1            0.01\n",
       "Mozambique                                  1            0.01\n",
       "Panama                                      1            0.01\n",
       "Liberia                                     1            0.01\n",
       "Nicaragua                                   1            0.01\n",
       "Papua New Guinea                            1            0.01\n",
       "Rwanda                                      1            0.01\n",
       "Botswana                                    1            0.01\n",
       "Myanmar                                     1            0.01\n",
       "Somalia                                     1            0.01\n",
       "Anguilla                                    1            0.01\n",
       "\n",
       "[137 rows x 2 columns]"
      ]
     },
     "execution_count": 311,
     "metadata": {},
     "output_type": "execute_result"
    }
   ],
   "source": [
    "absolute_count_countries= data_with_interest['CountryLive'].value_counts()\n",
    "relative_count_countries=round(data_with_interest['CountryLive'].value_counts(normalize=True)*100,2)\n",
    "\n",
    "potential_market = pd.DataFrame(data={'absolute_count':absolute_count_countries,\n",
    "                                    'relative_count':relative_count_countries})\n",
    "\n",
    "potential_market"
   ]
  },
  {
   "cell_type": "code",
   "execution_count": 312,
   "metadata": {
    "collapsed": false
   },
   "outputs": [
    {
     "data": {
      "text/plain": [
       "<matplotlib.text.Text at 0x7f5622166be0>"
      ]
     },
     "execution_count": 312,
     "metadata": {},
     "output_type": "execute_result"
    },
    {
     "data": {
      "image/png": "[encoded data removed]",
      "text/plain": [
       "<matplotlib.figure.Figure at 0x7f5620d800f0>"
      ]
     },
     "metadata": {},
     "output_type": "display_data"
    }
   ],
   "source": [
    "potential_market['relative_count'].head().plot.barh()\n",
    "plt.title('Living country')\n",
    "plt.xlabel('% of the survey')"
   ]
  },
  {
   "cell_type": "markdown",
   "metadata": {},
   "source": [
    "- Based on these results: the 2 market to choose would be USA with 45% of new coders and India. (7%) \n",
    "\n",
    "- I would still recommand to dig more into the USA market to understand to know more our future customers it might be better to target only USA....\n",
    "    - where do these coders spend their time learning ? \n",
    "    - we could have video ad on Youtube or regular ads on webpages or sponsor an ad for a podcast. \n",
    "    - Should we make our courses accessible on some platform such as coursera with a paying certificate? \n",
    "    \n",
    "Advertising in high-density markets where most people are only willing to learn for free is extremely unlikely to be profitable for us. So where people who spend money, spend it??\n",
    "\n",
    "*Usa customers:*\n",
    "- 68 languages at home, "
   ]
  },
  {
   "cell_type": "code",
   "execution_count": 313,
   "metadata": {
    "collapsed": false
   },
   "outputs": [],
   "source": [
    "#isolate coder from USA\n",
    "coders_usa= data_with_interest[data_with_interest['CountryLive']=='United States of America'].copy()"
   ]
  },
  {
   "cell_type": "markdown",
   "metadata": {
    "collapsed": false
   },
   "source": [
    "        - to go deeper for the analysis of the USA market"
   ]
  },
  {
   "cell_type": "markdown",
   "metadata": {
    "collapsed": false
   },
   "source": [
    "###  Spending Money for Learning\n",
    "as mentionned earlier, our target is the student ready to pay for learning not the students using only free tools. \n",
    "our company has courses in Englih for a monthly price of 59$ /month. \n",
    "\n",
    "=> We gonna focus our analysis on the 4 biggest countries as they are english speaking country (the 5th is Poland...)"
   ]
  },
  {
   "cell_type": "code",
   "execution_count": 314,
   "metadata": {
    "collapsed": false
   },
   "outputs": [
    {
     "data": {
      "text/plain": [
       "count    6633.000000\n",
       "mean       13.681140\n",
       "std        29.586196\n",
       "min         1.000000\n",
       "25%         2.000000\n",
       "50%         6.000000\n",
       "75%        15.000000\n",
       "max       744.000000\n",
       "Name: MonthsProgramming, dtype: float64"
      ]
     },
     "execution_count": 314,
     "metadata": {},
     "output_type": "execute_result"
    }
   ],
   "source": [
    "#compute money per month.\n",
    "#remove the 0 values to avoid issues when dividing \n",
    "data_with_interest['MonthsProgramming']=data_with_interest['MonthsProgramming'].replace(0,1)\n",
    "data_with_interest['MonthsProgramming'].describe()"
   ]
  },
  {
   "cell_type": "code",
   "execution_count": 315,
   "metadata": {
    "collapsed": false
   },
   "outputs": [
    {
     "data": {
      "text/plain": [
       "count      6476.00000\n",
       "mean        885.31223\n",
       "std        4893.37377\n",
       "min           0.00000\n",
       "25%           0.00000\n",
       "50%          10.00000\n",
       "75%         200.00000\n",
       "max      200000.00000\n",
       "Name: MoneyForLearning, dtype: float64"
      ]
     },
     "execution_count": 315,
     "metadata": {},
     "output_type": "execute_result"
    }
   ],
   "source": [
    "data_with_interest['MoneyForLearning'].describe()"
   ]
  },
  {
   "cell_type": "code",
   "execution_count": 316,
   "metadata": {
    "collapsed": true
   },
   "outputs": [],
   "source": [
    "#fee per month\n",
    "data_with_interest['monthly_learning_fee'] = data_with_interest['MoneyForLearning'] / data_with_interest['MonthsProgramming']"
   ]
  },
  {
   "cell_type": "code",
   "execution_count": 317,
   "metadata": {
    "collapsed": false
   },
   "outputs": [
    {
     "name": "stdout",
     "output_type": "stream",
     "text": [
      "count     6317.000000\n",
      "mean       177.468653\n",
      "std       1563.115242\n",
      "min          0.000000\n",
      "25%          0.000000\n",
      "50%          0.708333\n",
      "75%         33.333333\n",
      "max      80000.000000\n",
      "Name: monthly_learning_fee, dtype: float64\n",
      "3092 null values\n"
     ]
    }
   ],
   "source": [
    "print(data_with_interest['monthly_learning_fee'].describe())\n",
    "print(data_with_interest['monthly_learning_fee'][data_with_interest['monthly_learning_fee']==0].count(), \n",
    "     'null values')"
   ]
  },
  {
   "cell_type": "markdown",
   "metadata": {},
   "source": [
    "- there are 3710 null values"
   ]
  },
  {
   "cell_type": "code",
   "execution_count": 318,
   "metadata": {
    "collapsed": false
   },
   "outputs": [
    {
     "data": {
      "text/plain": [
       "675"
      ]
     },
     "execution_count": 318,
     "metadata": {},
     "output_type": "execute_result"
    }
   ],
   "source": [
    "data_with_interest['monthly_learning_fee'].isnull().sum()"
   ]
  },
  {
   "cell_type": "code",
   "execution_count": 319,
   "metadata": {
    "collapsed": true
   },
   "outputs": [],
   "source": [
    "#let's remove all the empty value from monthly_learning fee \n",
    "good_data= data_with_interest[data_with_interest['monthly_learning_fee'].notnull()]"
   ]
  },
  {
   "cell_type": "code",
   "execution_count": 320,
   "metadata": {
    "collapsed": false
   },
   "outputs": [
    {
     "data": {
      "text/plain": [
       "count     6317.000000\n",
       "mean       177.468653\n",
       "std       1563.115242\n",
       "min          0.000000\n",
       "25%          0.000000\n",
       "50%          0.708333\n",
       "75%         33.333333\n",
       "max      80000.000000\n",
       "Name: monthly_learning_fee, dtype: float64"
      ]
     },
     "execution_count": 320,
     "metadata": {},
     "output_type": "execute_result"
    }
   ],
   "source": [
    "good_data['monthly_learning_fee'].describe()"
   ]
  },
  {
   "cell_type": "code",
   "execution_count": 321,
   "metadata": {
    "collapsed": false
   },
   "outputs": [],
   "source": [
    "#let's remove the rows with empty value in CountryLive \n",
    "good_data= good_data[good_data['CountryLive'].notnull()]"
   ]
  },
  {
   "cell_type": "code",
   "execution_count": 322,
   "metadata": {
    "collapsed": false
   },
   "outputs": [
    {
     "data": {
      "text/plain": [
       "United States of America    2933\n",
       "India                        463\n",
       "United Kingdom               279\n",
       "Canada                       240\n",
       "Poland                       122\n",
       "Name: CountryLive, dtype: int64"
      ]
     },
     "execution_count": 322,
     "metadata": {},
     "output_type": "execute_result"
    }
   ],
   "source": [
    "#to check if we did not remove too many data \n",
    "good_data['CountryLive'].value_counts().head()"
   ]
  },
  {
   "cell_type": "code",
   "execution_count": 323,
   "metadata": {
    "collapsed": false
   },
   "outputs": [
    {
     "name": "stdout",
     "output_type": "stream",
     "text": [
      "---mean---\n"
     ]
    },
    {
     "data": {
      "text/plain": [
       "CountryLive\n",
       "United States of America    227.997996\n",
       "India                       135.100982\n",
       "United Kingdom               45.534443\n",
       "Canada                      113.510961\n",
       "Name: monthly_learning_fee, dtype: float64"
      ]
     },
     "execution_count": 323,
     "metadata": {},
     "output_type": "execute_result"
    }
   ],
   "source": [
    "#compute the average monthly learning fee \n",
    "countries_mean = good_data.groupby('CountryLive').mean()\n",
    "print('---mean---')\n",
    "countries_mean['monthly_learning_fee'][['United States of America','India', 'United Kingdom','Canada']]"
   ]
  },
  {
   "cell_type": "markdown",
   "metadata": {},
   "source": [
    "The americans are the ones that put the max into monthly learning fees follwing by India, Canada and UK. \n",
    "It might be worth to see how many people are around our price tag"
   ]
  },
  {
   "cell_type": "code",
   "execution_count": 324,
   "metadata": {
    "collapsed": false
   },
   "outputs": [
    {
     "name": "stdout",
     "output_type": "stream",
     "text": [
      "---std---\n"
     ]
    },
    {
     "data": {
      "text/plain": [
       "CountryLive\n",
       "United States of America    1940.245614\n",
       "India                        692.960378\n",
       "United Kingdom               162.311836\n",
       "Canada                       441.014158\n",
       "Name: monthly_learning_fee, dtype: float64"
      ]
     },
     "execution_count": 324,
     "metadata": {},
     "output_type": "execute_result"
    }
   ],
   "source": [
    "#check the std and median\n",
    "countries_std = good_data.groupby('CountryLive').std(ddof=1)\n",
    "print('---std---')\n",
    "countries_std['monthly_learning_fee'][['United States of America','India', 'United Kingdom','Canada']]"
   ]
  },
  {
   "cell_type": "code",
   "execution_count": 325,
   "metadata": {
    "collapsed": false
   },
   "outputs": [
    {
     "data": {
      "text/html": [
       "<div>\n",
       "<style scoped>\n",
       "    .dataframe tbody tr th:only-of-type {\n",
       "        vertical-align: middle;\n",
       "    }\n",
       "\n",
       "    .dataframe tbody tr th {\n",
       "        vertical-align: top;\n",
       "    }\n",
       "\n",
       "    .dataframe thead th {\n",
       "        text-align: right;\n",
       "    }\n",
       "</style>\n",
       "<table border=\"1\" class=\"dataframe\">\n",
       "  <thead>\n",
       "    <tr style=\"text-align: right;\">\n",
       "      <th></th>\n",
       "      <th>mean_MonthlyFee</th>\n",
       "      <th>std_MontlyFee</th>\n",
       "      <th>median_MonthlyFee</th>\n",
       "    </tr>\n",
       "    <tr>\n",
       "      <th>CountryLive</th>\n",
       "      <th></th>\n",
       "      <th></th>\n",
       "      <th></th>\n",
       "    </tr>\n",
       "  </thead>\n",
       "  <tbody>\n",
       "    <tr>\n",
       "      <th>United States of America</th>\n",
       "      <td>227.997996</td>\n",
       "      <td>1940.245614</td>\n",
       "      <td>3.333333</td>\n",
       "    </tr>\n",
       "    <tr>\n",
       "      <th>India</th>\n",
       "      <td>135.100982</td>\n",
       "      <td>692.960378</td>\n",
       "      <td>0.000000</td>\n",
       "    </tr>\n",
       "    <tr>\n",
       "      <th>United Kingdom</th>\n",
       "      <td>45.534443</td>\n",
       "      <td>162.311836</td>\n",
       "      <td>0.000000</td>\n",
       "    </tr>\n",
       "    <tr>\n",
       "      <th>Canada</th>\n",
       "      <td>113.510961</td>\n",
       "      <td>441.014158</td>\n",
       "      <td>0.000000</td>\n",
       "    </tr>\n",
       "  </tbody>\n",
       "</table>\n",
       "</div>"
      ],
      "text/plain": [
       "                          mean_MonthlyFee  std_MontlyFee  median_MonthlyFee\n",
       "CountryLive                                                                \n",
       "United States of America       227.997996    1940.245614           3.333333\n",
       "India                          135.100982     692.960378           0.000000\n",
       "United Kingdom                  45.534443     162.311836           0.000000\n",
       "Canada                         113.510961     441.014158           0.000000"
      ]
     },
     "execution_count": 325,
     "metadata": {},
     "output_type": "execute_result"
    }
   ],
   "source": [
    "#check the std and median\n",
    "countries_stats = good_data.groupby('CountryLive')['monthly_learning_fee'].agg(['mean','std','median'])\n",
    "countries_stats.columns= ['mean_MonthlyFee','std_MontlyFee','median_MonthlyFee']\n",
    "countries_stats.loc[['United States of America','India', 'United Kingdom','Canada']]\n"
   ]
  },
  {
   "cell_type": "code",
   "execution_count": 326,
   "metadata": {
    "collapsed": false
   },
   "outputs": [
    {
     "data": {
      "text/html": [
       "<div>\n",
       "<style scoped>\n",
       "    .dataframe tbody tr th:only-of-type {\n",
       "        vertical-align: middle;\n",
       "    }\n",
       "\n",
       "    .dataframe tbody tr th {\n",
       "        vertical-align: top;\n",
       "    }\n",
       "\n",
       "    .dataframe thead th {\n",
       "        text-align: right;\n",
       "    }\n",
       "</style>\n",
       "<table border=\"1\" class=\"dataframe\">\n",
       "  <thead>\n",
       "    <tr style=\"text-align: right;\">\n",
       "      <th></th>\n",
       "      <th>mean_MonthlyFee</th>\n",
       "      <th>std_MontlyFee</th>\n",
       "      <th>median_MonthlyFee</th>\n",
       "    </tr>\n",
       "    <tr>\n",
       "      <th>CountryLive</th>\n",
       "      <th></th>\n",
       "      <th></th>\n",
       "      <th></th>\n",
       "    </tr>\n",
       "  </thead>\n",
       "  <tbody>\n",
       "    <tr>\n",
       "      <th>United States of America</th>\n",
       "      <td>227.997996</td>\n",
       "      <td>1940.245614</td>\n",
       "      <td>3.333333</td>\n",
       "    </tr>\n",
       "    <tr>\n",
       "      <th>India</th>\n",
       "      <td>135.100982</td>\n",
       "      <td>692.960378</td>\n",
       "      <td>0.000000</td>\n",
       "    </tr>\n",
       "    <tr>\n",
       "      <th>United Kingdom</th>\n",
       "      <td>45.534443</td>\n",
       "      <td>162.311836</td>\n",
       "      <td>0.000000</td>\n",
       "    </tr>\n",
       "    <tr>\n",
       "      <th>Canada</th>\n",
       "      <td>113.510961</td>\n",
       "      <td>441.014158</td>\n",
       "      <td>0.000000</td>\n",
       "    </tr>\n",
       "  </tbody>\n",
       "</table>\n",
       "</div>"
      ],
      "text/plain": [
       "                          mean_MonthlyFee  std_MontlyFee  median_MonthlyFee\n",
       "CountryLive                                                                \n",
       "United States of America       227.997996    1940.245614           3.333333\n",
       "India                          135.100982     692.960378           0.000000\n",
       "United Kingdom                  45.534443     162.311836           0.000000\n",
       "Canada                         113.510961     441.014158           0.000000"
      ]
     },
     "execution_count": 326,
     "metadata": {},
     "output_type": "execute_result"
    }
   ],
   "source": [
    "countries_stats.loc[['United States of America','India', 'United Kingdom','Canada']]\n"
   ]
  },
  {
   "cell_type": "markdown",
   "metadata": {},
   "source": [
    "- There are some crazy standard deviation in USA for instance which might mean outliers :) \n",
    "- The results for the United Kingdom and Canada are surprisingly low relative to the values we see for India. If we considered a few socio-economical metrics (like GDP per capita), we'd intuitively expect people in the UK and Canada to spend more on learning than people in India.\n"
   ]
  },
  {
   "cell_type": "markdown",
   "metadata": {},
   "source": [
    "### Dealing with Extreme Outliers"
   ]
  },
  {
   "cell_type": "code",
   "execution_count": 327,
   "metadata": {
    "collapsed": true
   },
   "outputs": [],
   "source": [
    "import seaborn as sns"
   ]
  },
  {
   "cell_type": "code",
   "execution_count": 328,
   "metadata": {
    "collapsed": false
   },
   "outputs": [
    {
     "data": {
      "text/plain": [
       "<matplotlib.axes._subplots.AxesSubplot at 0x7f5621d3a128>"
      ]
     },
     "execution_count": 328,
     "metadata": {},
     "output_type": "execute_result"
    },
    {
     "data": {
      "image/png": "[encoded data removed]",
      "text/plain": [
       "<matplotlib.figure.Figure at 0x7f5621d35d68>"
      ]
     },
     "metadata": {},
     "output_type": "display_data"
    }
   ],
   "source": [
    "#box plot monthly fee for our 4 countries of interest\n",
    "countries_interests= good_data[good_data['CountryLive'].str.contains(\n",
    "            'United States of America|India|United Kingdom|Canada'\n",
    "        )]\n",
    "countries_interests.boxplot(column='monthly_learning_fee',by='CountryLive')"
   ]
  },
  {
   "cell_type": "code",
   "execution_count": 329,
   "metadata": {
    "collapsed": false
   },
   "outputs": [
    {
     "name": "stderr",
     "output_type": "stream",
     "text": [
      "/dataquest/system/env/python3/lib/python3.4/site-packages/seaborn/categorical.py:454: FutureWarning:\n",
      "\n",
      "remove_na is deprecated and is a private function. Do not use.\n",
      "\n"
     ]
    },
    {
     "data": {
      "text/plain": [
       "<matplotlib.text.Text at 0x7f5621c407b8>"
      ]
     },
     "execution_count": 329,
     "metadata": {},
     "output_type": "execute_result"
    },
    {
     "data": {
      "image/png": "[encoded data removed]",
      "text/plain": [
       "<matplotlib.figure.Figure at 0x7f5621d4bf98>"
      ]
     },
     "metadata": {},
     "output_type": "display_data"
    }
   ],
   "source": [
    "sns.boxplot(x='CountryLive',y='monthly_learning_fee',\n",
    "           data=countries_interests)\n",
    "\n",
    "plt.ylabel('Monthly learning fee US $')"
   ]
  },
  {
   "cell_type": "markdown",
   "metadata": {},
   "source": [
    "we gonna remove the outliers, for instance evryting above 10K /month"
   ]
  },
  {
   "cell_type": "code",
   "execution_count": 330,
   "metadata": {
    "collapsed": true
   },
   "outputs": [],
   "source": [
    "countries_interests= countries_interests[countries_interests['monthly_learning_fee'] < 10000]"
   ]
  },
  {
   "cell_type": "code",
   "execution_count": 331,
   "metadata": {
    "collapsed": false
   },
   "outputs": [
    {
     "name": "stderr",
     "output_type": "stream",
     "text": [
      "/dataquest/system/env/python3/lib/python3.4/site-packages/seaborn/categorical.py:454: FutureWarning:\n",
      "\n",
      "remove_na is deprecated and is a private function. Do not use.\n",
      "\n"
     ]
    },
    {
     "data": {
      "text/plain": [
       "<matplotlib.text.Text at 0x7f562455fda0>"
      ]
     },
     "execution_count": 331,
     "metadata": {},
     "output_type": "execute_result"
    },
    {
     "data": {
      "image/png": "[encoded data removed]",
      "text/plain": [
       "<matplotlib.figure.Figure at 0x7f5621cff710>"
      ]
     },
     "metadata": {},
     "output_type": "display_data"
    }
   ],
   "source": [
    "sns.boxplot(x='CountryLive',y='monthly_learning_fee',\n",
    "           data=countries_interests)\n",
    "\n",
    "plt.ylabel('Monthly learning fee US $')"
   ]
  },
  {
   "cell_type": "code",
   "execution_count": 332,
   "metadata": {
    "collapsed": false
   },
   "outputs": [
    {
     "data": {
      "text/html": [
       "<div>\n",
       "<style scoped>\n",
       "    .dataframe tbody tr th:only-of-type {\n",
       "        vertical-align: middle;\n",
       "    }\n",
       "\n",
       "    .dataframe tbody tr th {\n",
       "        vertical-align: top;\n",
       "    }\n",
       "\n",
       "    .dataframe thead th {\n",
       "        text-align: right;\n",
       "    }\n",
       "</style>\n",
       "<table border=\"1\" class=\"dataframe\">\n",
       "  <thead>\n",
       "    <tr style=\"text-align: right;\">\n",
       "      <th></th>\n",
       "      <th>mean</th>\n",
       "      <th>std</th>\n",
       "      <th>median</th>\n",
       "    </tr>\n",
       "    <tr>\n",
       "      <th>CountryLive</th>\n",
       "      <th></th>\n",
       "      <th></th>\n",
       "      <th></th>\n",
       "    </tr>\n",
       "  </thead>\n",
       "  <tbody>\n",
       "    <tr>\n",
       "      <th>Canada</th>\n",
       "      <td>113.510961</td>\n",
       "      <td>441.014158</td>\n",
       "      <td>0.000000</td>\n",
       "    </tr>\n",
       "    <tr>\n",
       "      <th>India</th>\n",
       "      <td>113.748387</td>\n",
       "      <td>519.307886</td>\n",
       "      <td>0.000000</td>\n",
       "    </tr>\n",
       "    <tr>\n",
       "      <th>United Kingdom</th>\n",
       "      <td>45.534443</td>\n",
       "      <td>162.311836</td>\n",
       "      <td>0.000000</td>\n",
       "    </tr>\n",
       "    <tr>\n",
       "      <th>United States of America</th>\n",
       "      <td>155.459187</td>\n",
       "      <td>591.219645</td>\n",
       "      <td>3.333333</td>\n",
       "    </tr>\n",
       "  </tbody>\n",
       "</table>\n",
       "</div>"
      ],
      "text/plain": [
       "                                mean         std    median\n",
       "CountryLive                                               \n",
       "Canada                    113.510961  441.014158  0.000000\n",
       "India                     113.748387  519.307886  0.000000\n",
       "United Kingdom             45.534443  162.311836  0.000000\n",
       "United States of America  155.459187  591.219645  3.333333"
      ]
     },
     "execution_count": 332,
     "metadata": {},
     "output_type": "execute_result"
    }
   ],
   "source": [
    "#check avg std and median again\n",
    "countries_interests.groupby('CountryLive')['monthly_learning_fee'].agg(['mean','std','median'])"
   ]
  },
  {
   "cell_type": "code",
   "execution_count": 333,
   "metadata": {
    "collapsed": false
   },
   "outputs": [],
   "source": [
    "#check the indian outliers\n",
    "india_outliers = countries_interests[(countries_interests['CountryLive']=='India') & \n",
    "                    (countries_interests['monthly_learning_fee'] > 2500)]"
   ]
  },
  {
   "cell_type": "markdown",
   "metadata": {},
   "source": [
    "For the Indians outliers, none of them have done a bootcamp,  3 have less than 6 month programming experience, and 2 with 15 and 24 month have spent 50K and 100K respestively, it might be price for their tuition and not for programming learning so we should drop them. "
   ]
  },
  {
   "cell_type": "code",
   "execution_count": 334,
   "metadata": {
    "collapsed": true
   },
   "outputs": [],
   "source": [
    "#drop by index\n",
    "countries_interests = countries_interests.drop(india_outliers.index)"
   ]
  },
  {
   "cell_type": "code",
   "execution_count": 335,
   "metadata": {
    "collapsed": false,
    "scrolled": false
   },
   "outputs": [
    {
     "data": {
      "text/html": [
       "<div>\n",
       "<style scoped>\n",
       "    .dataframe tbody tr th:only-of-type {\n",
       "        vertical-align: middle;\n",
       "    }\n",
       "\n",
       "    .dataframe tbody tr th {\n",
       "        vertical-align: top;\n",
       "    }\n",
       "\n",
       "    .dataframe thead th {\n",
       "        text-align: right;\n",
       "    }\n",
       "</style>\n",
       "<table border=\"1\" class=\"dataframe\">\n",
       "  <thead>\n",
       "    <tr style=\"text-align: right;\">\n",
       "      <th></th>\n",
       "      <th>AttendedBootcamp</th>\n",
       "      <th>MonthsProgramming</th>\n",
       "      <th>monthly_learning_fee</th>\n",
       "    </tr>\n",
       "  </thead>\n",
       "  <tbody>\n",
       "    <tr>\n",
       "      <th>3184</th>\n",
       "      <td>1.0</td>\n",
       "      <td>1.0</td>\n",
       "      <td>9000.000000</td>\n",
       "    </tr>\n",
       "    <tr>\n",
       "      <th>718</th>\n",
       "      <td>1.0</td>\n",
       "      <td>1.0</td>\n",
       "      <td>8000.000000</td>\n",
       "    </tr>\n",
       "    <tr>\n",
       "      <th>9778</th>\n",
       "      <td>1.0</td>\n",
       "      <td>1.0</td>\n",
       "      <td>8000.000000</td>\n",
       "    </tr>\n",
       "    <tr>\n",
       "      <th>7505</th>\n",
       "      <td>1.0</td>\n",
       "      <td>3.0</td>\n",
       "      <td>6666.666667</td>\n",
       "    </tr>\n",
       "    <tr>\n",
       "      <th>1222</th>\n",
       "      <td>1.0</td>\n",
       "      <td>2.0</td>\n",
       "      <td>6500.000000</td>\n",
       "    </tr>\n",
       "    <tr>\n",
       "      <th>3145</th>\n",
       "      <td>1.0</td>\n",
       "      <td>3.0</td>\n",
       "      <td>5666.666667</td>\n",
       "    </tr>\n",
       "    <tr>\n",
       "      <th>13145</th>\n",
       "      <td>1.0</td>\n",
       "      <td>3.0</td>\n",
       "      <td>5333.333333</td>\n",
       "    </tr>\n",
       "    <tr>\n",
       "      <th>16211</th>\n",
       "      <td>1.0</td>\n",
       "      <td>2.0</td>\n",
       "      <td>5000.000000</td>\n",
       "    </tr>\n",
       "    <tr>\n",
       "      <th>8901</th>\n",
       "      <td>1.0</td>\n",
       "      <td>3.0</td>\n",
       "      <td>5000.000000</td>\n",
       "    </tr>\n",
       "    <tr>\n",
       "      <th>8202</th>\n",
       "      <td>1.0</td>\n",
       "      <td>3.0</td>\n",
       "      <td>5000.000000</td>\n",
       "    </tr>\n",
       "    <tr>\n",
       "      <th>6528</th>\n",
       "      <td>0.0</td>\n",
       "      <td>1.0</td>\n",
       "      <td>5000.000000</td>\n",
       "    </tr>\n",
       "    <tr>\n",
       "      <th>5769</th>\n",
       "      <td>0.0</td>\n",
       "      <td>3.0</td>\n",
       "      <td>5000.000000</td>\n",
       "    </tr>\n",
       "    <tr>\n",
       "      <th>5059</th>\n",
       "      <td>1.0</td>\n",
       "      <td>3.0</td>\n",
       "      <td>4666.666667</td>\n",
       "    </tr>\n",
       "    <tr>\n",
       "      <th>16290</th>\n",
       "      <td>0.0</td>\n",
       "      <td>2.0</td>\n",
       "      <td>4550.000000</td>\n",
       "    </tr>\n",
       "    <tr>\n",
       "      <th>16700</th>\n",
       "      <td>0.0</td>\n",
       "      <td>10.0</td>\n",
       "      <td>4500.000000</td>\n",
       "    </tr>\n",
       "    <tr>\n",
       "      <th>2480</th>\n",
       "      <td>0.0</td>\n",
       "      <td>2.0</td>\n",
       "      <td>4250.000000</td>\n",
       "    </tr>\n",
       "    <tr>\n",
       "      <th>723</th>\n",
       "      <td>1.0</td>\n",
       "      <td>5.0</td>\n",
       "      <td>4000.000000</td>\n",
       "    </tr>\n",
       "    <tr>\n",
       "      <th>3260</th>\n",
       "      <td>0.0</td>\n",
       "      <td>1.0</td>\n",
       "      <td>4000.000000</td>\n",
       "    </tr>\n",
       "    <tr>\n",
       "      <th>3144</th>\n",
       "      <td>1.0</td>\n",
       "      <td>4.0</td>\n",
       "      <td>4000.000000</td>\n",
       "    </tr>\n",
       "    <tr>\n",
       "      <th>16719</th>\n",
       "      <td>0.0</td>\n",
       "      <td>1.0</td>\n",
       "      <td>4000.000000</td>\n",
       "    </tr>\n",
       "  </tbody>\n",
       "</table>\n",
       "</div>"
      ],
      "text/plain": [
       "       AttendedBootcamp  MonthsProgramming  monthly_learning_fee\n",
       "3184                1.0                1.0           9000.000000\n",
       "718                 1.0                1.0           8000.000000\n",
       "9778                1.0                1.0           8000.000000\n",
       "7505                1.0                3.0           6666.666667\n",
       "1222                1.0                2.0           6500.000000\n",
       "3145                1.0                3.0           5666.666667\n",
       "13145               1.0                3.0           5333.333333\n",
       "16211               1.0                2.0           5000.000000\n",
       "8901                1.0                3.0           5000.000000\n",
       "8202                1.0                3.0           5000.000000\n",
       "6528                0.0                1.0           5000.000000\n",
       "5769                0.0                3.0           5000.000000\n",
       "5059                1.0                3.0           4666.666667\n",
       "16290               0.0                2.0           4550.000000\n",
       "16700               0.0               10.0           4500.000000\n",
       "2480                0.0                2.0           4250.000000\n",
       "723                 1.0                5.0           4000.000000\n",
       "3260                0.0                1.0           4000.000000\n",
       "3144                1.0                4.0           4000.000000\n",
       "16719               0.0                1.0           4000.000000"
      ]
     },
     "execution_count": 335,
     "metadata": {},
     "output_type": "execute_result"
    }
   ],
   "source": [
    "#USA outlier\n",
    "usa_outliers = countries_interests[(countries_interests['CountryLive']=='United States of America') & \n",
    "                    (countries_interests['monthly_learning_fee'] > 3800)]\n",
    "usa_outliers[['AttendedBootcamp','MonthsProgramming','monthly_learning_fee']].sort_values('monthly_learning_fee',ascending = False)"
   ]
  },
  {
   "cell_type": "markdown",
   "metadata": {
    "collapsed": true
   },
   "source": [
    "- For the USA outlier, some of the persons did not go to a bootcamp but still have spend a big amount of money, which does not explain why. better to remove it to avoid bias\n",
    "- for the one who attended a bootcamp, it explains the high monthly learning fee but we gonna remove the one with 3month or less programming experience. \n",
    "\n"
   ]
  },
  {
   "cell_type": "code",
   "execution_count": 336,
   "metadata": {
    "collapsed": false
   },
   "outputs": [],
   "source": [
    "#remove the usa outliers who did not to bootcamp \n",
    "usa_outliers[usa_outliers['AttendedBootcamp']==0][['AttendedBootcamp','MonthsProgramming','monthly_learning_fee']].sort_values('monthly_learning_fee',ascending = False)\n",
    "\n",
    "countries_interests= countries_interests.drop(usa_outliers[usa_outliers['AttendedBootcamp']==0].index)"
   ]
  },
  {
   "cell_type": "code",
   "execution_count": 337,
   "metadata": {
    "collapsed": false
   },
   "outputs": [],
   "source": [
    "#remove usa outlier who went to bootcamp but has 3months max programming experience\n",
    "usa_outliers[(usa_outliers['MonthsProgramming'] <=3) & \n",
    "             usa_outliers['AttendedBootcamp']==1][['AttendedBootcamp','MonthsProgramming','monthly_learning_fee']].sort_values('monthly_learning_fee',ascending = False)\n",
    "\n",
    "countries_interests = countries_interests.drop(usa_outliers[(usa_outliers['MonthsProgramming'] <=3) & \n",
    "                                                             (usa_outliers['AttendedBootcamp']== 1)].index)"
   ]
  },
  {
   "cell_type": "code",
   "execution_count": null,
   "metadata": {
    "collapsed": true
   },
   "outputs": [],
   "source": []
  },
  {
   "cell_type": "code",
   "execution_count": 338,
   "metadata": {
    "collapsed": false
   },
   "outputs": [
    {
     "data": {
      "text/html": [
       "<div>\n",
       "<style scoped>\n",
       "    .dataframe tbody tr th:only-of-type {\n",
       "        vertical-align: middle;\n",
       "    }\n",
       "\n",
       "    .dataframe tbody tr th {\n",
       "        vertical-align: top;\n",
       "    }\n",
       "\n",
       "    .dataframe thead th {\n",
       "        text-align: right;\n",
       "    }\n",
       "</style>\n",
       "<table border=\"1\" class=\"dataframe\">\n",
       "  <thead>\n",
       "    <tr style=\"text-align: right;\">\n",
       "      <th></th>\n",
       "      <th>AttendedBootcamp</th>\n",
       "      <th>MonthsProgramming</th>\n",
       "      <th>monthly_learning_fee</th>\n",
       "    </tr>\n",
       "  </thead>\n",
       "  <tbody>\n",
       "    <tr>\n",
       "      <th>13659</th>\n",
       "      <td>1.0</td>\n",
       "      <td>2.0</td>\n",
       "      <td>5000.0</td>\n",
       "    </tr>\n",
       "  </tbody>\n",
       "</table>\n",
       "</div>"
      ],
      "text/plain": [
       "       AttendedBootcamp  MonthsProgramming  monthly_learning_fee\n",
       "13659               1.0                2.0                5000.0"
      ]
     },
     "execution_count": 338,
     "metadata": {},
     "output_type": "execute_result"
    }
   ],
   "source": [
    "#explore Canada oulier \n",
    "canada_outlier = countries_interests[(countries_interests['CountryLive']=='Canada')  & \n",
    "                    (countries_interests['monthly_learning_fee'] > 3000)][['AttendedBootcamp','MonthsProgramming','monthly_learning_fee']]\n",
    "canada_outlier"
   ]
  },
  {
   "cell_type": "markdown",
   "metadata": {},
   "source": [
    "Similar to USA outliers, big amount of money spends and only a few month of programming, meaning that it is probably the price of the bootcamp. we gonna do like such kind of USA outliers, we drop it."
   ]
  },
  {
   "cell_type": "code",
   "execution_count": 339,
   "metadata": {
    "collapsed": true
   },
   "outputs": [],
   "source": [
    "countries_interests = countries_interests.drop(canada_outlier.index)"
   ]
  },
  {
   "cell_type": "code",
   "execution_count": 340,
   "metadata": {
    "collapsed": false
   },
   "outputs": [
    {
     "data": {
      "text/html": [
       "<div>\n",
       "<style scoped>\n",
       "    .dataframe tbody tr th:only-of-type {\n",
       "        vertical-align: middle;\n",
       "    }\n",
       "\n",
       "    .dataframe tbody tr th {\n",
       "        vertical-align: top;\n",
       "    }\n",
       "\n",
       "    .dataframe thead th {\n",
       "        text-align: right;\n",
       "    }\n",
       "</style>\n",
       "<table border=\"1\" class=\"dataframe\">\n",
       "  <thead>\n",
       "    <tr style=\"text-align: right;\">\n",
       "      <th></th>\n",
       "      <th>mean</th>\n",
       "      <th>std</th>\n",
       "      <th>median</th>\n",
       "    </tr>\n",
       "    <tr>\n",
       "      <th>CountryLive</th>\n",
       "      <th></th>\n",
       "      <th></th>\n",
       "      <th></th>\n",
       "    </tr>\n",
       "  </thead>\n",
       "  <tbody>\n",
       "    <tr>\n",
       "      <th>Canada</th>\n",
       "      <td>93.065400</td>\n",
       "      <td>307.512802</td>\n",
       "      <td>0.0</td>\n",
       "    </tr>\n",
       "    <tr>\n",
       "      <th>India</th>\n",
       "      <td>65.758763</td>\n",
       "      <td>233.452738</td>\n",
       "      <td>0.0</td>\n",
       "    </tr>\n",
       "    <tr>\n",
       "      <th>United Kingdom</th>\n",
       "      <td>45.534443</td>\n",
       "      <td>162.311836</td>\n",
       "      <td>0.0</td>\n",
       "    </tr>\n",
       "    <tr>\n",
       "      <th>United States of America</th>\n",
       "      <td>121.976191</td>\n",
       "      <td>395.889646</td>\n",
       "      <td>3.0</td>\n",
       "    </tr>\n",
       "  </tbody>\n",
       "</table>\n",
       "</div>"
      ],
      "text/plain": [
       "                                mean         std  median\n",
       "CountryLive                                             \n",
       "Canada                     93.065400  307.512802     0.0\n",
       "India                      65.758763  233.452738     0.0\n",
       "United Kingdom             45.534443  162.311836     0.0\n",
       "United States of America  121.976191  395.889646     3.0"
      ]
     },
     "execution_count": 340,
     "metadata": {},
     "output_type": "execute_result"
    }
   ],
   "source": [
    "#check avg std and median again\n",
    "countries_interests.groupby('CountryLive')['monthly_learning_fee'].agg(['mean','std','median'])"
   ]
  },
  {
   "cell_type": "markdown",
   "metadata": {},
   "source": [
    "The numbers for india seem more reasonable but why the UK are so low average? might be something to investigate. "
   ]
  },
  {
   "cell_type": "code",
   "execution_count": 341,
   "metadata": {
    "collapsed": false
   },
   "outputs": [
    {
     "name": "stderr",
     "output_type": "stream",
     "text": [
      "/dataquest/system/env/python3/lib/python3.4/site-packages/seaborn/categorical.py:454: FutureWarning:\n",
      "\n",
      "remove_na is deprecated and is a private function. Do not use.\n",
      "\n"
     ]
    },
    {
     "data": {
      "image/png": "[encoded data removed]",
      "text/plain": [
       "<matplotlib.figure.Figure at 0x7f562450abe0>"
      ]
     },
     "metadata": {},
     "output_type": "display_data"
    }
   ],
   "source": [
    "sns.boxplot(x='CountryLive',y='monthly_learning_fee',\n",
    "           data=countries_interests)\n",
    "\n",
    "plt.title('Money Spent Per Month Per Country\\n(Distributions)',\n",
    "          fontsize = 16)\n",
    "plt.ylabel('Money per month (US dollars)')\n",
    "plt.xlabel('Country')\n",
    "plt.xticks(range(4), ['US', 'UK', 'India', 'Canada']) # avoids tick labels overlap\n",
    "plt.show()"
   ]
  },
  {
   "cell_type": "code",
   "execution_count": 342,
   "metadata": {
    "collapsed": false
   },
   "outputs": [
    {
     "data": {
      "text/plain": [
       "United States of America    74.884080\n",
       "India                       11.772282\n",
       "United Kingdom               7.187017\n",
       "Canada                       6.156620\n",
       "Name: CountryLive, dtype: float64"
      ]
     },
     "execution_count": 342,
     "metadata": {},
     "output_type": "execute_result"
    }
   ],
   "source": [
    "countries_interests['CountryLive'].value_counts(normalize=True)*100"
   ]
  },
  {
   "cell_type": "markdown",
   "metadata": {},
   "source": [
    "### Conclusion\n",
    "Based on the results we obtained so far the 2 markets I would advise to choose is:\n",
    "- USA\n",
    "- India, despite Canada having better average value, the potential market is only a bit more than half the market of India and our price is in the spot of the average price (65$)\n"
   ]
  },
  {
   "cell_type": "markdown",
   "metadata": {},
   "source": [
    "###### Small test by isolated only the student paying something for learning (>0)"
   ]
  },
  {
   "cell_type": "code",
   "execution_count": 343,
   "metadata": {
    "collapsed": false
   },
   "outputs": [],
   "source": [
    "paying_students = countries_interests[countries_interests['monthly_learning_fee'] > 0]"
   ]
  },
  {
   "cell_type": "code",
   "execution_count": 344,
   "metadata": {
    "collapsed": false
   },
   "outputs": [
    {
     "data": {
      "text/plain": [
       "United States of America    78.164868\n",
       "India                        9.568204\n",
       "United Kingdom               6.722277\n",
       "Canada                       5.544652\n",
       "Name: CountryLive, dtype: float64"
      ]
     },
     "execution_count": 344,
     "metadata": {},
     "output_type": "execute_result"
    }
   ],
   "source": [
    "paying_students['CountryLive'].value_counts(normalize=True)*100"
   ]
  },
  {
   "cell_type": "code",
   "execution_count": 345,
   "metadata": {
    "collapsed": false
   },
   "outputs": [
    {
     "name": "stderr",
     "output_type": "stream",
     "text": [
      "/dataquest/system/env/python3/lib/python3.4/site-packages/seaborn/categorical.py:454: FutureWarning:\n",
      "\n",
      "remove_na is deprecated and is a private function. Do not use.\n",
      "\n"
     ]
    },
    {
     "data": {
      "image/png": "[encoded data removed]",
      "text/plain": [
       "<matplotlib.figure.Figure at 0x7f562228dcf8>"
      ]
     },
     "metadata": {},
     "output_type": "display_data"
    }
   ],
   "source": [
    "sns.boxplot(x='CountryLive',y='monthly_learning_fee',\n",
    "           data=paying_students)\n",
    "\n",
    "plt.title('Money Spent Per Month Per Country\\n paying student',\n",
    "          fontsize = 16)\n",
    "plt.ylabel('Money per month (US dollars)')\n",
    "plt.xlabel('Country')\n",
    "plt.xticks(range(4), ['US', 'UK', 'India', 'Canada']) # avoids tick labels overlap\n",
    "plt.show()"
   ]
  },
  {
   "cell_type": "code",
   "execution_count": 346,
   "metadata": {
    "collapsed": false
   },
   "outputs": [
    {
     "data": {
      "text/html": [
       "<div>\n",
       "<style scoped>\n",
       "    .dataframe tbody tr th:only-of-type {\n",
       "        vertical-align: middle;\n",
       "    }\n",
       "\n",
       "    .dataframe tbody tr th {\n",
       "        vertical-align: top;\n",
       "    }\n",
       "\n",
       "    .dataframe thead th {\n",
       "        text-align: right;\n",
       "    }\n",
       "</style>\n",
       "<table border=\"1\" class=\"dataframe\">\n",
       "  <thead>\n",
       "    <tr style=\"text-align: right;\">\n",
       "      <th></th>\n",
       "      <th>mean</th>\n",
       "      <th>std</th>\n",
       "      <th>median</th>\n",
       "    </tr>\n",
       "    <tr>\n",
       "      <th>CountryLive</th>\n",
       "      <th></th>\n",
       "      <th></th>\n",
       "      <th></th>\n",
       "    </tr>\n",
       "  </thead>\n",
       "  <tbody>\n",
       "    <tr>\n",
       "      <th>Canada</th>\n",
       "      <td>196.837439</td>\n",
       "      <td>424.664765</td>\n",
       "      <td>25.000000</td>\n",
       "    </tr>\n",
       "    <tr>\n",
       "      <th>India</th>\n",
       "      <td>154.111562</td>\n",
       "      <td>338.256033</td>\n",
       "      <td>20.000000</td>\n",
       "    </tr>\n",
       "    <tr>\n",
       "      <th>United Kingdom</th>\n",
       "      <td>92.730727</td>\n",
       "      <td>222.359671</td>\n",
       "      <td>20.833333</td>\n",
       "    </tr>\n",
       "    <tr>\n",
       "      <th>United States of America</th>\n",
       "      <td>222.589321</td>\n",
       "      <td>513.497137</td>\n",
       "      <td>33.333333</td>\n",
       "    </tr>\n",
       "  </tbody>\n",
       "</table>\n",
       "</div>"
      ],
      "text/plain": [
       "                                mean         std     median\n",
       "CountryLive                                                \n",
       "Canada                    196.837439  424.664765  25.000000\n",
       "India                     154.111562  338.256033  20.000000\n",
       "United Kingdom             92.730727  222.359671  20.833333\n",
       "United States of America  222.589321  513.497137  33.333333"
      ]
     },
     "execution_count": 346,
     "metadata": {},
     "output_type": "execute_result"
    }
   ],
   "source": [
    "paying_students.groupby('CountryLive')['monthly_learning_fee'].agg(['mean','std','median'])"
   ]
  },
  {
   "cell_type": "code",
   "execution_count": 362,
   "metadata": {
    "collapsed": false
   },
   "outputs": [
    {
     "data": {
      "image/png": "[encoded data removed]",
      "text/plain": [
       "<matplotlib.figure.Figure at 0x7f5621bf77f0>"
      ]
     },
     "metadata": {},
     "output_type": "display_data"
    }
   ],
   "source": [
    "for country in paying_students['CountryLive'].unique():\n",
    "    paying_students[paying_students['CountryLive']==country]['monthly_learning_fee'].plot.kde()"
   ]
  },
  {
   "cell_type": "code",
   "execution_count": 364,
   "metadata": {
    "collapsed": false
   },
   "outputs": [
    {
     "data": {
      "text/html": [
       "<div>\n",
       "<style scoped>\n",
       "    .dataframe tbody tr th:only-of-type {\n",
       "        vertical-align: middle;\n",
       "    }\n",
       "\n",
       "    .dataframe tbody tr th {\n",
       "        vertical-align: top;\n",
       "    }\n",
       "\n",
       "    .dataframe thead th {\n",
       "        text-align: right;\n",
       "    }\n",
       "</style>\n",
       "<table border=\"1\" class=\"dataframe\">\n",
       "  <thead>\n",
       "    <tr style=\"text-align: right;\">\n",
       "      <th>CountryLive</th>\n",
       "      <th>Canada</th>\n",
       "      <th>India</th>\n",
       "      <th>United Kingdom</th>\n",
       "      <th>United States of America</th>\n",
       "    </tr>\n",
       "  </thead>\n",
       "  <tbody>\n",
       "    <tr>\n",
       "      <th>count</th>\n",
       "      <td>113.000000</td>\n",
       "      <td>195.000000</td>\n",
       "      <td>137.000000</td>\n",
       "      <td>1593.000000</td>\n",
       "    </tr>\n",
       "    <tr>\n",
       "      <th>mean</th>\n",
       "      <td>196.837439</td>\n",
       "      <td>154.111562</td>\n",
       "      <td>92.730727</td>\n",
       "      <td>222.589321</td>\n",
       "    </tr>\n",
       "    <tr>\n",
       "      <th>std</th>\n",
       "      <td>424.664765</td>\n",
       "      <td>338.256033</td>\n",
       "      <td>222.359671</td>\n",
       "      <td>513.497137</td>\n",
       "    </tr>\n",
       "    <tr>\n",
       "      <th>min</th>\n",
       "      <td>0.416667</td>\n",
       "      <td>0.138889</td>\n",
       "      <td>0.050000</td>\n",
       "      <td>0.033333</td>\n",
       "    </tr>\n",
       "    <tr>\n",
       "      <th>25%</th>\n",
       "      <td>8.333333</td>\n",
       "      <td>5.196429</td>\n",
       "      <td>8.333333</td>\n",
       "      <td>10.000000</td>\n",
       "    </tr>\n",
       "    <tr>\n",
       "      <th>50%</th>\n",
       "      <td>25.000000</td>\n",
       "      <td>20.000000</td>\n",
       "      <td>20.833333</td>\n",
       "      <td>33.333333</td>\n",
       "    </tr>\n",
       "    <tr>\n",
       "      <th>75%</th>\n",
       "      <td>125.000000</td>\n",
       "      <td>122.500000</td>\n",
       "      <td>66.666667</td>\n",
       "      <td>150.000000</td>\n",
       "    </tr>\n",
       "    <tr>\n",
       "      <th>max</th>\n",
       "      <td>2337.166667</td>\n",
       "      <td>2000.000000</td>\n",
       "      <td>1400.000000</td>\n",
       "      <td>4000.000000</td>\n",
       "    </tr>\n",
       "  </tbody>\n",
       "</table>\n",
       "</div>"
      ],
      "text/plain": [
       "CountryLive       Canada        India  United Kingdom  \\\n",
       "count         113.000000   195.000000      137.000000   \n",
       "mean          196.837439   154.111562       92.730727   \n",
       "std           424.664765   338.256033      222.359671   \n",
       "min             0.416667     0.138889        0.050000   \n",
       "25%             8.333333     5.196429        8.333333   \n",
       "50%            25.000000    20.000000       20.833333   \n",
       "75%           125.000000   122.500000       66.666667   \n",
       "max          2337.166667  2000.000000     1400.000000   \n",
       "\n",
       "CountryLive  United States of America  \n",
       "count                     1593.000000  \n",
       "mean                       222.589321  \n",
       "std                        513.497137  \n",
       "min                          0.033333  \n",
       "25%                         10.000000  \n",
       "50%                         33.333333  \n",
       "75%                        150.000000  \n",
       "max                       4000.000000  "
      ]
     },
     "execution_count": 364,
     "metadata": {},
     "output_type": "execute_result"
    }
   ],
   "source": [
    "#describe the monthly fee per country\n",
    "paying_students.groupby('CountryLive')['monthly_learning_fee'].describe().T"
   ]
  },
  {
   "cell_type": "markdown",
   "metadata": {},
   "source": [
    "### Conclusion bis\n",
    "\n",
    "if we take the info from the blocs checking only the students paying:\n",
    "- 78% of the new coders paying are in USA\n",
    "- but our price of 59$/month is really low compare to the average people in Canada and USA and India are ready to put.  \n",
    "    - Are people ready to buy something 3 times cheapers that the competition (the std dev is really high also so...) ?\n",
    "    - How do we vouch for the quality?\n",
    "- our price is closer to the  UK average, so could we not add some more value to our offer by adding portefolio guidance, webinar, community ... so we could increase our price  and be in the range of the average amount people are ready to put? \n",
    "\n",
    "\n",
    "Maybe we could split the budget:\n",
    "- sure 70% of the budget for USA \n",
    "- 10% for each of the other and we see which one answer best to the advertisement\n",
    "\n",
    "\n",
    "- we should get in touch with the marketing team and discuss with them\n",
    "- other factors that could influence our pool of answers? the public from the freecode survey? their follower on Medium? ..... these criteria could help us to make a better choice. "
   ]
  },
  {
   "cell_type": "markdown",
   "metadata": {
    "collapsed": true
   },
   "source": [
    "### Going further\n",
    "-Finding other criteria for choosing the best market.\n",
    "-Analyzing other data sets:\n",
    "\n",
    "- freeCodeCamp's 2016 New Coders Survey https://github.com/freeCodeCamp/2016-new-coder-survey\n",
    "- Stack Overflow 2018 Developer Survey https://www.kaggle.com/stackoverflow/stack-overflow-2018-developer-survey\n",
    "- style guideline: https://www.dataquest.io/blog/data-science-project-style-guide"
   ]
  },
  {
   "cell_type": "code",
   "execution_count": null,
   "metadata": {
    "collapsed": true
   },
   "outputs": [],
   "source": []
  }
 ],
 "metadata": {
  "kernelspec": {
   "display_name": "Python 3",
   "language": "python",
   "name": "python3"
  },
  "language_info": {
   "codemirror_mode": {
    "name": "ipython",
    "version": 3
   },
   "file_extension": ".py",
   "mimetype": "text/x-python",
   "name": "python",
   "nbconvert_exporter": "python",
   "pygments_lexer": "ipython3",
   "version": "3.4.3"
  }
 },
 "nbformat": 4,
 "nbformat_minor": 2
}
